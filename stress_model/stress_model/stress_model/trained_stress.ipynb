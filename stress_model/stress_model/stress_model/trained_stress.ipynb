{
 "cells": [
  {
   "cell_type": "raw",
   "id": "1034b150-7b27-4813-b36c-f7f7c8276a39",
   "metadata": {
    "colab": {
     "base_uri": "https://localhost:8080/"
    },
    "id": "31149bb6",
    "outputId": "fba91660-87ae-448a-a62b-43148201739f",
    "papermill": {
     "duration": 17.54775,
     "end_time": "2024-03-13T13:43:18.485758",
     "exception": false,
     "start_time": "2024-03-13T13:43:00.938008",
     "status": "completed"
    },
    "tags": []
   },
   "source": [
    "pip install seaborn"
   ]
  },
  {
   "cell_type": "raw",
   "id": "bd9f0725-7902-4630-87b1-ae17f5748b23",
   "metadata": {
    "colab": {
     "base_uri": "https://localhost:8080/"
    },
    "id": "a92b4be1",
    "outputId": "c162addb-9f83-422f-c437-ffec8fdaad43",
    "papermill": {
     "duration": 2.922453,
     "end_time": "2024-03-13T13:43:21.422001",
     "exception": false,
     "start_time": "2024-03-13T13:43:18.499548",
     "status": "completed"
    },
    "tags": []
   },
   "source": [
    "import numpy as np\n",
    "import pandas as pd\n",
    "import matplotlib.pyplot as plt\n",
    "import seaborn as sns\n",
    "%matplotlib inline\n",
    "\n",
    "import os\n",
    "for dirname, _, filenames in os.walk('C:/Users/kumar/stress_model'):\n",
    "    for filename in filenames:\n",
    "        print(os.path.join(dirname, filename))"
   ]
  },
  {
   "cell_type": "code",
   "execution_count": 2,
   "id": "6CxiG9NMH4CB",
   "metadata": {
    "colab": {
     "base_uri": "https://localhost:8080/"
    },
    "id": "6CxiG9NMH4CB",
    "outputId": "7e99e91f-09d1-4089-a98c-c77c63454d12"
   },
   "outputs": [
    {
     "ename": "ModuleNotFoundError",
     "evalue": "No module named 'google.colab'",
     "output_type": "error",
     "traceback": [
      "\u001b[1;31m---------------------------------------------------------------------------\u001b[0m",
      "\u001b[1;31mModuleNotFoundError\u001b[0m                       Traceback (most recent call last)",
      "Cell \u001b[1;32mIn[2], line 1\u001b[0m\n\u001b[1;32m----> 1\u001b[0m \u001b[38;5;28;01mfrom\u001b[39;00m \u001b[38;5;21;01mgoogle\u001b[39;00m\u001b[38;5;21;01m.\u001b[39;00m\u001b[38;5;21;01mcolab\u001b[39;00m \u001b[38;5;28;01mimport\u001b[39;00m drive\n\u001b[0;32m      2\u001b[0m drive\u001b[38;5;241m.\u001b[39mmount(\u001b[38;5;124m'\u001b[39m\u001b[38;5;124m/content/drive\u001b[39m\u001b[38;5;124m'\u001b[39m)\n",
      "\u001b[1;31mModuleNotFoundError\u001b[0m: No module named 'google.colab'"
     ]
    }
   ],
   "source": [
    "from google.colab import drive\n",
    "drive.mount('/content/drive')"
   ]
  },
  {
   "cell_type": "code",
   "execution_count": 4,
   "id": "a8233f08",
   "metadata": {
    "colab": {
     "base_uri": "https://localhost:8080/",
     "height": 206
    },
    "id": "a8233f08",
    "outputId": "9a49f503-eab4-45d7-fe36-b91561e53312",
    "papermill": {
     "duration": 0.062503,
     "end_time": "2024-03-13T13:43:21.498739",
     "exception": false,
     "start_time": "2024-03-13T13:43:21.436236",
     "status": "completed"
    },
    "tags": []
   },
   "outputs": [
    {
     "data": {
      "text/html": [
       "<div>\n",
       "<style scoped>\n",
       "    .dataframe tbody tr th:only-of-type {\n",
       "        vertical-align: middle;\n",
       "    }\n",
       "\n",
       "    .dataframe tbody tr th {\n",
       "        vertical-align: top;\n",
       "    }\n",
       "\n",
       "    .dataframe thead th {\n",
       "        text-align: right;\n",
       "    }\n",
       "</style>\n",
       "<table border=\"1\" class=\"dataframe\">\n",
       "  <thead>\n",
       "    <tr style=\"text-align: right;\">\n",
       "      <th></th>\n",
       "      <th>Humidity</th>\n",
       "      <th>Temperature</th>\n",
       "      <th>Step_count</th>\n",
       "      <th>Stress_Level</th>\n",
       "    </tr>\n",
       "  </thead>\n",
       "  <tbody>\n",
       "    <tr>\n",
       "      <th>0</th>\n",
       "      <td>21.33</td>\n",
       "      <td>90.33</td>\n",
       "      <td>123</td>\n",
       "      <td>1</td>\n",
       "    </tr>\n",
       "    <tr>\n",
       "      <th>1</th>\n",
       "      <td>21.41</td>\n",
       "      <td>90.41</td>\n",
       "      <td>93</td>\n",
       "      <td>1</td>\n",
       "    </tr>\n",
       "    <tr>\n",
       "      <th>2</th>\n",
       "      <td>27.12</td>\n",
       "      <td>96.12</td>\n",
       "      <td>196</td>\n",
       "      <td>2</td>\n",
       "    </tr>\n",
       "    <tr>\n",
       "      <th>3</th>\n",
       "      <td>27.64</td>\n",
       "      <td>96.64</td>\n",
       "      <td>177</td>\n",
       "      <td>2</td>\n",
       "    </tr>\n",
       "    <tr>\n",
       "      <th>4</th>\n",
       "      <td>10.87</td>\n",
       "      <td>79.87</td>\n",
       "      <td>87</td>\n",
       "      <td>0</td>\n",
       "    </tr>\n",
       "  </tbody>\n",
       "</table>\n",
       "</div>"
      ],
      "text/plain": [
       "   Humidity  Temperature  Step_count  Stress_Level\n",
       "0     21.33        90.33         123             1\n",
       "1     21.41        90.41          93             1\n",
       "2     27.12        96.12         196             2\n",
       "3     27.64        96.64         177             2\n",
       "4     10.87        79.87          87             0"
      ]
     },
     "execution_count": 4,
     "metadata": {},
     "output_type": "execute_result"
    }
   ],
   "source": [
    "import pandas as pd\n",
    "df=pd.read_csv('C:/Users/kumar/stress_model/Stress-Lysis.csv')\n",
    "df.head(5)  # displays the first five rows of the dataframe"
   ]
  },
  {
   "cell_type": "markdown",
   "id": "541c1ece",
   "metadata": {
    "id": "541c1ece",
    "papermill": {
     "duration": 0.015182,
     "end_time": "2024-03-13T13:43:21.527742",
     "exception": false,
     "start_time": "2024-03-13T13:43:21.512560",
     "status": "completed"
    },
    "tags": []
   },
   "source": [
    "# Data Preprocessing"
   ]
  },
  {
   "cell_type": "code",
   "execution_count": 7,
   "id": "385a57c2",
   "metadata": {
    "colab": {
     "base_uri": "https://localhost:8080/"
    },
    "id": "385a57c2",
    "outputId": "48099638-6e67-4610-a18f-3448e30c7bf6",
    "papermill": {
     "duration": 0.04859,
     "end_time": "2024-03-13T13:43:21.591518",
     "exception": false,
     "start_time": "2024-03-13T13:43:21.542928",
     "status": "completed"
    },
    "tags": []
   },
   "outputs": [
    {
     "name": "stdout",
     "output_type": "stream",
     "text": [
      "<class 'pandas.core.frame.DataFrame'>\n",
      "RangeIndex: 2001 entries, 0 to 2000\n",
      "Data columns (total 4 columns):\n",
      " #   Column        Non-Null Count  Dtype  \n",
      "---  ------        --------------  -----  \n",
      " 0   Humidity      2001 non-null   float64\n",
      " 1   Temperature   2001 non-null   float64\n",
      " 2   Step_count    2001 non-null   int64  \n",
      " 3   Stress_Level  2001 non-null   int64  \n",
      "dtypes: float64(2), int64(2)\n",
      "memory usage: 62.7 KB\n"
     ]
    }
   ],
   "source": [
    "df.info()"
   ]
  },
  {
   "cell_type": "code",
   "execution_count": 9,
   "id": "24ea022a",
   "metadata": {
    "colab": {
     "base_uri": "https://localhost:8080/"
    },
    "id": "24ea022a",
    "outputId": "aea0cc08-fe14-4e62-bee0-936729e50b4d",
    "papermill": {
     "duration": 0.024956,
     "end_time": "2024-03-13T13:43:21.629805",
     "exception": false,
     "start_time": "2024-03-13T13:43:21.604849",
     "status": "completed"
    },
    "tags": []
   },
   "outputs": [
    {
     "data": {
      "text/plain": [
       "(2001, 4)"
      ]
     },
     "execution_count": 9,
     "metadata": {},
     "output_type": "execute_result"
    }
   ],
   "source": [
    "df.shape"
   ]
  },
  {
   "cell_type": "code",
   "execution_count": 11,
   "id": "0ca86dbb",
   "metadata": {
    "colab": {
     "base_uri": "https://localhost:8080/",
     "height": 300
    },
    "id": "0ca86dbb",
    "outputId": "7100b794-ebf0-432d-c8af-3e9bfb8f18d1",
    "papermill": {
     "duration": 0.04446,
     "end_time": "2024-03-13T13:43:21.687565",
     "exception": false,
     "start_time": "2024-03-13T13:43:21.643105",
     "status": "completed"
    },
    "tags": []
   },
   "outputs": [
    {
     "data": {
      "text/html": [
       "<div>\n",
       "<style scoped>\n",
       "    .dataframe tbody tr th:only-of-type {\n",
       "        vertical-align: middle;\n",
       "    }\n",
       "\n",
       "    .dataframe tbody tr th {\n",
       "        vertical-align: top;\n",
       "    }\n",
       "\n",
       "    .dataframe thead th {\n",
       "        text-align: right;\n",
       "    }\n",
       "</style>\n",
       "<table border=\"1\" class=\"dataframe\">\n",
       "  <thead>\n",
       "    <tr style=\"text-align: right;\">\n",
       "      <th></th>\n",
       "      <th>Humidity</th>\n",
       "      <th>Temperature</th>\n",
       "      <th>Step_count</th>\n",
       "      <th>Stress_Level</th>\n",
       "    </tr>\n",
       "  </thead>\n",
       "  <tbody>\n",
       "    <tr>\n",
       "      <th>count</th>\n",
       "      <td>2001.000000</td>\n",
       "      <td>2001.000000</td>\n",
       "      <td>2001.000000</td>\n",
       "      <td>2001.000000</td>\n",
       "    </tr>\n",
       "    <tr>\n",
       "      <th>mean</th>\n",
       "      <td>20.000000</td>\n",
       "      <td>89.000000</td>\n",
       "      <td>100.141429</td>\n",
       "      <td>1.104448</td>\n",
       "    </tr>\n",
       "    <tr>\n",
       "      <th>std</th>\n",
       "      <td>5.777833</td>\n",
       "      <td>5.777833</td>\n",
       "      <td>58.182948</td>\n",
       "      <td>0.771094</td>\n",
       "    </tr>\n",
       "    <tr>\n",
       "      <th>min</th>\n",
       "      <td>10.000000</td>\n",
       "      <td>79.000000</td>\n",
       "      <td>0.000000</td>\n",
       "      <td>0.000000</td>\n",
       "    </tr>\n",
       "    <tr>\n",
       "      <th>25%</th>\n",
       "      <td>15.000000</td>\n",
       "      <td>84.000000</td>\n",
       "      <td>50.000000</td>\n",
       "      <td>0.000000</td>\n",
       "    </tr>\n",
       "    <tr>\n",
       "      <th>50%</th>\n",
       "      <td>20.000000</td>\n",
       "      <td>89.000000</td>\n",
       "      <td>101.000000</td>\n",
       "      <td>1.000000</td>\n",
       "    </tr>\n",
       "    <tr>\n",
       "      <th>75%</th>\n",
       "      <td>25.000000</td>\n",
       "      <td>94.000000</td>\n",
       "      <td>150.000000</td>\n",
       "      <td>2.000000</td>\n",
       "    </tr>\n",
       "    <tr>\n",
       "      <th>max</th>\n",
       "      <td>30.000000</td>\n",
       "      <td>99.000000</td>\n",
       "      <td>200.000000</td>\n",
       "      <td>2.000000</td>\n",
       "    </tr>\n",
       "  </tbody>\n",
       "</table>\n",
       "</div>"
      ],
      "text/plain": [
       "          Humidity  Temperature   Step_count  Stress_Level\n",
       "count  2001.000000  2001.000000  2001.000000   2001.000000\n",
       "mean     20.000000    89.000000   100.141429      1.104448\n",
       "std       5.777833     5.777833    58.182948      0.771094\n",
       "min      10.000000    79.000000     0.000000      0.000000\n",
       "25%      15.000000    84.000000    50.000000      0.000000\n",
       "50%      20.000000    89.000000   101.000000      1.000000\n",
       "75%      25.000000    94.000000   150.000000      2.000000\n",
       "max      30.000000    99.000000   200.000000      2.000000"
      ]
     },
     "execution_count": 11,
     "metadata": {},
     "output_type": "execute_result"
    }
   ],
   "source": [
    "df.describe()"
   ]
  },
  {
   "cell_type": "code",
   "execution_count": 13,
   "id": "669b4903",
   "metadata": {
    "colab": {
     "base_uri": "https://localhost:8080/"
    },
    "id": "669b4903",
    "outputId": "33c4f6f8-38f1-4d7e-f87e-61649211862e",
    "papermill": {
     "duration": 0.03065,
     "end_time": "2024-03-13T13:43:21.731899",
     "exception": false,
     "start_time": "2024-03-13T13:43:21.701249",
     "status": "completed"
    },
    "tags": []
   },
   "outputs": [
    {
     "data": {
      "text/plain": [
       "False"
      ]
     },
     "execution_count": 13,
     "metadata": {},
     "output_type": "execute_result"
    }
   ],
   "source": [
    "df.duplicated().any()"
   ]
  },
  {
   "cell_type": "code",
   "execution_count": 15,
   "id": "92a671ef",
   "metadata": {
    "colab": {
     "base_uri": "https://localhost:8080/",
     "height": 423
    },
    "id": "92a671ef",
    "outputId": "a8424ebf-6e8b-4a04-c7e1-a4e4c6178967",
    "papermill": {
     "duration": 0.033661,
     "end_time": "2024-03-13T13:43:21.779787",
     "exception": false,
     "start_time": "2024-03-13T13:43:21.746126",
     "status": "completed"
    },
    "tags": []
   },
   "outputs": [
    {
     "data": {
      "text/html": [
       "<div>\n",
       "<style scoped>\n",
       "    .dataframe tbody tr th:only-of-type {\n",
       "        vertical-align: middle;\n",
       "    }\n",
       "\n",
       "    .dataframe tbody tr th {\n",
       "        vertical-align: top;\n",
       "    }\n",
       "\n",
       "    .dataframe thead th {\n",
       "        text-align: right;\n",
       "    }\n",
       "</style>\n",
       "<table border=\"1\" class=\"dataframe\">\n",
       "  <thead>\n",
       "    <tr style=\"text-align: right;\">\n",
       "      <th></th>\n",
       "      <th>Humidity</th>\n",
       "      <th>Temperature</th>\n",
       "      <th>Step_count</th>\n",
       "      <th>Stress_Level</th>\n",
       "    </tr>\n",
       "  </thead>\n",
       "  <tbody>\n",
       "    <tr>\n",
       "      <th>0</th>\n",
       "      <td>False</td>\n",
       "      <td>False</td>\n",
       "      <td>False</td>\n",
       "      <td>False</td>\n",
       "    </tr>\n",
       "    <tr>\n",
       "      <th>1</th>\n",
       "      <td>False</td>\n",
       "      <td>False</td>\n",
       "      <td>False</td>\n",
       "      <td>False</td>\n",
       "    </tr>\n",
       "    <tr>\n",
       "      <th>2</th>\n",
       "      <td>False</td>\n",
       "      <td>False</td>\n",
       "      <td>False</td>\n",
       "      <td>False</td>\n",
       "    </tr>\n",
       "    <tr>\n",
       "      <th>3</th>\n",
       "      <td>False</td>\n",
       "      <td>False</td>\n",
       "      <td>False</td>\n",
       "      <td>False</td>\n",
       "    </tr>\n",
       "    <tr>\n",
       "      <th>4</th>\n",
       "      <td>False</td>\n",
       "      <td>False</td>\n",
       "      <td>False</td>\n",
       "      <td>False</td>\n",
       "    </tr>\n",
       "    <tr>\n",
       "      <th>...</th>\n",
       "      <td>...</td>\n",
       "      <td>...</td>\n",
       "      <td>...</td>\n",
       "      <td>...</td>\n",
       "    </tr>\n",
       "    <tr>\n",
       "      <th>1996</th>\n",
       "      <td>False</td>\n",
       "      <td>False</td>\n",
       "      <td>False</td>\n",
       "      <td>False</td>\n",
       "    </tr>\n",
       "    <tr>\n",
       "      <th>1997</th>\n",
       "      <td>False</td>\n",
       "      <td>False</td>\n",
       "      <td>False</td>\n",
       "      <td>False</td>\n",
       "    </tr>\n",
       "    <tr>\n",
       "      <th>1998</th>\n",
       "      <td>False</td>\n",
       "      <td>False</td>\n",
       "      <td>False</td>\n",
       "      <td>False</td>\n",
       "    </tr>\n",
       "    <tr>\n",
       "      <th>1999</th>\n",
       "      <td>False</td>\n",
       "      <td>False</td>\n",
       "      <td>False</td>\n",
       "      <td>False</td>\n",
       "    </tr>\n",
       "    <tr>\n",
       "      <th>2000</th>\n",
       "      <td>False</td>\n",
       "      <td>False</td>\n",
       "      <td>False</td>\n",
       "      <td>False</td>\n",
       "    </tr>\n",
       "  </tbody>\n",
       "</table>\n",
       "<p>2001 rows × 4 columns</p>\n",
       "</div>"
      ],
      "text/plain": [
       "      Humidity  Temperature  Step_count  Stress_Level\n",
       "0        False        False       False         False\n",
       "1        False        False       False         False\n",
       "2        False        False       False         False\n",
       "3        False        False       False         False\n",
       "4        False        False       False         False\n",
       "...        ...          ...         ...           ...\n",
       "1996     False        False       False         False\n",
       "1997     False        False       False         False\n",
       "1998     False        False       False         False\n",
       "1999     False        False       False         False\n",
       "2000     False        False       False         False\n",
       "\n",
       "[2001 rows x 4 columns]"
      ]
     },
     "execution_count": 15,
     "metadata": {},
     "output_type": "execute_result"
    }
   ],
   "source": [
    "df.isnull()"
   ]
  },
  {
   "cell_type": "markdown",
   "id": "ecf02073",
   "metadata": {
    "id": "ecf02073",
    "papermill": {
     "duration": 0.01436,
     "end_time": "2024-03-13T13:43:21.808403",
     "exception": false,
     "start_time": "2024-03-13T13:43:21.794043",
     "status": "completed"
    },
    "tags": []
   },
   "source": [
    "**Analyze the numerical and categorical features, and convert categorical feature into numerical.**"
   ]
  },
  {
   "cell_type": "code",
   "execution_count": 18,
   "id": "28e969d7",
   "metadata": {
    "colab": {
     "base_uri": "https://localhost:8080/"
    },
    "id": "28e969d7",
    "outputId": "8e364481-bbc7-4e40-81c2-93038cede02e",
    "papermill": {
     "duration": 0.028788,
     "end_time": "2024-03-13T13:43:21.852845",
     "exception": false,
     "start_time": "2024-03-13T13:43:21.824057",
     "status": "completed"
    },
    "tags": []
   },
   "outputs": [
    {
     "data": {
      "text/plain": [
       "array([1, 2, 0], dtype=int64)"
      ]
     },
     "execution_count": 18,
     "metadata": {},
     "output_type": "execute_result"
    }
   ],
   "source": [
    "df['Stress_Level'].unique()\n"
   ]
  },
  {
   "cell_type": "markdown",
   "id": "3c726a89",
   "metadata": {
    "id": "3c726a89",
    "papermill": {
     "duration": 0.013925,
     "end_time": "2024-03-13T13:43:21.881055",
     "exception": false,
     "start_time": "2024-03-13T13:43:21.867130",
     "status": "completed"
    },
    "tags": []
   },
   "source": [
    "# EDA"
   ]
  },
  {
   "cell_type": "code",
   "execution_count": 21,
   "id": "8a439627",
   "metadata": {
    "colab": {
     "base_uri": "https://localhost:8080/",
     "height": 528
    },
    "id": "8a439627",
    "outputId": "bacc0b02-cf65-48c7-e677-34c6c535ec34",
    "papermill": {
     "duration": 0.628719,
     "end_time": "2024-03-13T13:43:22.524000",
     "exception": false,
     "start_time": "2024-03-13T13:43:21.895281",
     "status": "completed"
    },
    "tags": []
   },
   "outputs": [
    {
     "data": {
      "image/png": "[encoded data removed]",
      "text/plain": [
       "<Figure size 1000x600 with 1 Axes>"
      ]
     },
     "metadata": {},
     "output_type": "display_data"
    }
   ],
   "source": [
    "import seaborn as sns\n",
    "import matplotlib.pyplot as plt\n",
    "\n",
    "# Assuming 'data' is your dataset\n",
    "\n",
    "# Calculate skewness\n",
    "skewness = df.skew()\n",
    "\n",
    "# Plotting\n",
    "plt.figure(figsize=(10, 6))\n",
    "\n",
    "# Boxplot\n",
    "sns.boxplot(data=df)\n",
    "plt.title('Boxplot with Skewness')\n",
    "\n",
    "# Annotate skewness on the boxplot\n",
    "for i, col in enumerate(df.columns):\n",
    "    plt.text(i, skewness.iloc[i], f\"Skewness: {skewness[col]:.2f}\", ha='center', va='bottom', fontsize=8, color='red')\n",
    "\n",
    "plt.xticks(rotation=45)  # Rotate x-axis labels for better readability\n",
    "\n",
    "plt.tight_layout()\n",
    "plt.show()\n"
   ]
  },
  {
   "cell_type": "markdown",
   "id": "a90baadc",
   "metadata": {
    "id": "a90baadc",
    "papermill": {
     "duration": 0.014996,
     "end_time": "2024-03-13T13:43:22.554797",
     "exception": false,
     "start_time": "2024-03-13T13:43:22.539801",
     "status": "completed"
    },
    "tags": []
   },
   "source": [
    "**Skewness Reduction after Log Transformation**"
   ]
  },
  {
   "cell_type": "code",
   "execution_count": 24,
   "id": "a2bb8827",
   "metadata": {
    "colab": {
     "base_uri": "https://localhost:8080/",
     "height": 529
    },
    "id": "a2bb8827",
    "outputId": "e3221ce5-cb00-4fee-bc6c-50383813224d",
    "papermill": {
     "duration": 0.391077,
     "end_time": "2024-03-13T13:43:22.961310",
     "exception": false,
     "start_time": "2024-03-13T13:43:22.570233",
     "status": "completed"
    },
    "tags": []
   },
   "outputs": [
    {
     "data": {
      "image/png": "[encoded data removed]",
      "text/plain": [
       "<Figure size 1000x600 with 1 Axes>"
      ]
     },
     "metadata": {},
     "output_type": "display_data"
    }
   ],
   "source": [
    "import numpy as np\n",
    "\n",
    "# Calculate skewness before transformation\n",
    "skewness_before = df.skew()\n",
    "\n",
    "# Apply logarithm transformation to reduce skewness\n",
    "df_log = np.log(df + 1)  # Adding 1 to handle zero values\n",
    "skewness_after = df_log.skew()\n",
    "\n",
    "# Plotting\n",
    "plt.figure(figsize=(10, 6))\n",
    "\n",
    "# Plot skewness reduction\n",
    "skewness_reduction = skewness_before - skewness_after\n",
    "plt.bar(df.columns, skewness_reduction)\n",
    "plt.title('Skewness Reduction after Log Transformation')\n",
    "plt.xlabel('Parameters')\n",
    "plt.ylabel('Skewness Reduction')\n",
    "\n",
    "plt.xticks(rotation=45)  # Rotate x-axis labels for better readability\n",
    "\n",
    "plt.tight_layout()\n",
    "plt.show()\n"
   ]
  },
  {
   "cell_type": "markdown",
   "id": "0f87c428",
   "metadata": {
    "id": "0f87c428",
    "papermill": {
     "duration": 0.015061,
     "end_time": "2024-03-13T13:43:22.992617",
     "exception": false,
     "start_time": "2024-03-13T13:43:22.977556",
     "status": "completed"
    },
    "tags": []
   },
   "source": [
    "**correlation**"
   ]
  },
  {
   "cell_type": "code",
   "execution_count": 27,
   "id": "df624532",
   "metadata": {
    "colab": {
     "base_uri": "https://localhost:8080/",
     "height": 175
    },
    "id": "df624532",
    "outputId": "06dc470f-4a59-4046-8c8d-4b8319b4c6ce",
    "papermill": {
     "duration": 0.03494,
     "end_time": "2024-03-13T13:43:23.043120",
     "exception": false,
     "start_time": "2024-03-13T13:43:23.008180",
     "status": "completed"
    },
    "tags": []
   },
   "outputs": [
    {
     "data": {
      "text/html": [
       "<div>\n",
       "<style scoped>\n",
       "    .dataframe tbody tr th:only-of-type {\n",
       "        vertical-align: middle;\n",
       "    }\n",
       "\n",
       "    .dataframe tbody tr th {\n",
       "        vertical-align: top;\n",
       "    }\n",
       "\n",
       "    .dataframe thead th {\n",
       "        text-align: right;\n",
       "    }\n",
       "</style>\n",
       "<table border=\"1\" class=\"dataframe\">\n",
       "  <thead>\n",
       "    <tr style=\"text-align: right;\">\n",
       "      <th></th>\n",
       "      <th>Humidity</th>\n",
       "      <th>Temperature</th>\n",
       "      <th>Step_count</th>\n",
       "      <th>Stress_Level</th>\n",
       "    </tr>\n",
       "  </thead>\n",
       "  <tbody>\n",
       "    <tr>\n",
       "      <th>Humidity</th>\n",
       "      <td>1.000000</td>\n",
       "      <td>1.000000</td>\n",
       "      <td>0.870486</td>\n",
       "      <td>0.936036</td>\n",
       "    </tr>\n",
       "    <tr>\n",
       "      <th>Temperature</th>\n",
       "      <td>1.000000</td>\n",
       "      <td>1.000000</td>\n",
       "      <td>0.870486</td>\n",
       "      <td>0.936036</td>\n",
       "    </tr>\n",
       "    <tr>\n",
       "      <th>Step_count</th>\n",
       "      <td>0.870486</td>\n",
       "      <td>0.870486</td>\n",
       "      <td>1.000000</td>\n",
       "      <td>0.832623</td>\n",
       "    </tr>\n",
       "    <tr>\n",
       "      <th>Stress_Level</th>\n",
       "      <td>0.936036</td>\n",
       "      <td>0.936036</td>\n",
       "      <td>0.832623</td>\n",
       "      <td>1.000000</td>\n",
       "    </tr>\n",
       "  </tbody>\n",
       "</table>\n",
       "</div>"
      ],
      "text/plain": [
       "              Humidity  Temperature  Step_count  Stress_Level\n",
       "Humidity      1.000000     1.000000    0.870486      0.936036\n",
       "Temperature   1.000000     1.000000    0.870486      0.936036\n",
       "Step_count    0.870486     0.870486    1.000000      0.832623\n",
       "Stress_Level  0.936036     0.936036    0.832623      1.000000"
      ]
     },
     "execution_count": 27,
     "metadata": {},
     "output_type": "execute_result"
    }
   ],
   "source": [
    "correlation = df.corr()\n",
    "correlation"
   ]
  },
  {
   "cell_type": "code",
   "execution_count": 29,
   "id": "1581da0d",
   "metadata": {
    "colab": {
     "base_uri": "https://localhost:8080/",
     "height": 744
    },
    "id": "1581da0d",
    "outputId": "41a9b9a4-2a38-4ff0-b64c-ac0881c4a094",
    "papermill": {
     "duration": 0.437011,
     "end_time": "2024-03-13T13:43:23.496103",
     "exception": false,
     "start_time": "2024-03-13T13:43:23.059092",
     "status": "completed"
    },
    "tags": []
   },
   "outputs": [
    {
     "data": {
      "image/png": "[encoded data removed]",
      "text/plain": [
       "<Figure size 1000x800 with 2 Axes>"
      ]
     },
     "metadata": {},
     "output_type": "display_data"
    }
   ],
   "source": [
    "import seaborn as sns\n",
    "\n",
    "# Calculate correlation matrix\n",
    "correlation = df.corr()\n",
    "\n",
    "# Plot correlation matrix as a heatmap\n",
    "plt.figure(figsize=(10, 8))\n",
    "sns.heatmap(correlation, annot=True, cmap='coolwarm', fmt=\".2f\")\n",
    "plt.title('Correlation Matrix')\n",
    "plt.xticks(rotation=45)  # Rotate x-axis labels for better readability\n",
    "plt.yticks(rotation=0)   # Rotate y-axis labels for better readability\n",
    "plt.tight_layout()\n",
    "plt.show()\n"
   ]
  },
  {
   "cell_type": "markdown",
   "id": "a40c7580",
   "metadata": {
    "id": "a40c7580",
    "papermill": {
     "duration": 0.018138,
     "end_time": "2024-03-13T13:43:23.531284",
     "exception": false,
     "start_time": "2024-03-13T13:43:23.513146",
     "status": "completed"
    },
    "tags": []
   },
   "source": [
    "**Clustered Correlation Matrix**"
   ]
  },
  {
   "cell_type": "code",
   "execution_count": 32,
   "id": "219dd8ac",
   "metadata": {
    "colab": {
     "base_uri": "https://localhost:8080/",
     "height": 877
    },
    "id": "219dd8ac",
    "outputId": "61ca432e-3717-4e8a-8d3f-1f80b95597c7",
    "papermill": {
     "duration": 0.64061,
     "end_time": "2024-03-13T13:43:24.189158",
     "exception": false,
     "start_time": "2024-03-13T13:43:23.548548",
     "status": "completed"
    },
    "tags": []
   },
   "outputs": [
    {
     "data": {
      "text/plain": [
       "<Figure size 1000x800 with 0 Axes>"
      ]
     },
     "metadata": {},
     "output_type": "display_data"
    },
    {
     "data": {
      "image/png": "[encoded data removed]",
      "text/plain": [
       "<Figure size 1000x1000 with 4 Axes>"
      ]
     },
     "metadata": {},
     "output_type": "display_data"
    }
   ],
   "source": [
    "import seaborn as sns\n",
    "import matplotlib.pyplot as plt\n",
    "\n",
    "# Calculate correlation matrix\n",
    "correlation = df.corr()\n",
    "\n",
    "# Plot clustered heatmap\n",
    "plt.figure(figsize=(10, 8))\n",
    "sns.clustermap(correlation, cmap='coolwarm', annot=True, fmt=\".2f\", linewidths=.5)\n",
    "plt.title('Clustered Correlation Matrix')\n",
    "plt.tight_layout()\n",
    "plt.show()\n"
   ]
  },
  {
   "cell_type": "markdown",
   "id": "e9f09768",
   "metadata": {
    "id": "e9f09768",
    "papermill": {
     "duration": 0.018127,
     "end_time": "2024-03-13T13:43:24.225182",
     "exception": false,
     "start_time": "2024-03-13T13:43:24.207055",
     "status": "completed"
    },
    "tags": []
   },
   "source": [
    "# Data Modeling"
   ]
  },
  {
   "cell_type": "code",
   "execution_count": 35,
   "id": "302b8b99",
   "metadata": {
    "id": "302b8b99",
    "papermill": {
     "duration": 0.35559,
     "end_time": "2024-03-13T13:43:24.599421",
     "exception": false,
     "start_time": "2024-03-13T13:43:24.243831",
     "status": "completed"
    },
    "tags": []
   },
   "outputs": [],
   "source": [
    "from sklearn.model_selection import train_test_split\n",
    "X=df.drop(['Stress_Level'],axis=1)\n",
    "y=df['Stress_Level']\n",
    "X_train,X_test,y_train,y_test = train_test_split(X,y,test_size=0.2,random_state=2)"
   ]
  },
  {
   "cell_type": "markdown",
   "id": "9e1b1878",
   "metadata": {
    "id": "9e1b1878",
    "papermill": {
     "duration": 0.017729,
     "end_time": "2024-03-13T13:43:24.634902",
     "exception": false,
     "start_time": "2024-03-13T13:43:24.617173",
     "status": "completed"
    },
    "tags": []
   },
   "source": [
    "**Initialize the Linear Regression model**"
   ]
  },
  {
   "cell_type": "code",
   "execution_count": 38,
   "id": "e2b3786c",
   "metadata": {
    "id": "e2b3786c",
    "papermill": {
     "duration": 0.145457,
     "end_time": "2024-03-13T13:43:24.798576",
     "exception": false,
     "start_time": "2024-03-13T13:43:24.653119",
     "status": "completed"
    },
    "tags": []
   },
   "outputs": [],
   "source": [
    "from sklearn.linear_model import LinearRegression\n",
    "from sklearn.metrics import mean_squared_error\n",
    "model = LinearRegression()\n"
   ]
  },
  {
   "cell_type": "markdown",
   "id": "5b14562f",
   "metadata": {
    "id": "5b14562f",
    "papermill": {
     "duration": 0.018422,
     "end_time": "2024-03-13T13:43:24.834814",
     "exception": false,
     "start_time": "2024-03-13T13:43:24.816392",
     "status": "completed"
    },
    "tags": []
   },
   "source": [
    "**Train the model on the training data**"
   ]
  },
  {
   "cell_type": "code",
   "execution_count": 41,
   "id": "43d89bda",
   "metadata": {
    "colab": {
     "base_uri": "https://localhost:8080/",
     "height": 80
    },
    "id": "43d89bda",
    "outputId": "42963e2b-1406-4f29-c130-0304114070ab",
    "papermill": {
     "duration": 0.061821,
     "end_time": "2024-03-13T13:43:24.914963",
     "exception": false,
     "start_time": "2024-03-13T13:43:24.853142",
     "status": "completed"
    },
    "tags": []
   },
   "outputs": [
    {
     "data": {
      "text/html": [
       "<style>#sk-container-id-1 {\n",
       "  /* Definition of color scheme common for light and dark mode */\n",
       "  --sklearn-color-text: black;\n",
       "  --sklearn-color-line: gray;\n",
       "  /* Definition of color scheme for unfitted estimators */\n",
       "  --sklearn-color-unfitted-level-0: #fff5e6;\n",
       "  --sklearn-color-unfitted-level-1: #f6e4d2;\n",
       "  --sklearn-color-unfitted-level-2: #ffe0b3;\n",
       "  --sklearn-color-unfitted-level-3: chocolate;\n",
       "  /* Definition of color scheme for fitted estimators */\n",
       "  --sklearn-color-fitted-level-0: #f0f8ff;\n",
       "  --sklearn-color-fitted-level-1: #d4ebff;\n",
       "  --sklearn-color-fitted-level-2: #b3dbfd;\n",
       "  --sklearn-color-fitted-level-3: cornflowerblue;\n",
       "\n",
       "  /* Specific color for light theme */\n",
       "  --sklearn-color-text-on-default-background: var(--sg-text-color, var(--theme-code-foreground, var(--jp-content-font-color1, black)));\n",
       "  --sklearn-color-background: var(--sg-background-color, var(--theme-background, var(--jp-layout-color0, white)));\n",
       "  --sklearn-color-border-box: var(--sg-text-color, var(--theme-code-foreground, var(--jp-content-font-color1, black)));\n",
       "  --sklearn-color-icon: #696969;\n",
       "\n",
       "  @media (prefers-color-scheme: dark) {\n",
       "    /* Redefinition of color scheme for dark theme */\n",
       "    --sklearn-color-text-on-default-background: var(--sg-text-color, var(--theme-code-foreground, var(--jp-content-font-color1, white)));\n",
       "    --sklearn-color-background: var(--sg-background-color, var(--theme-background, var(--jp-layout-color0, #111)));\n",
       "    --sklearn-color-border-box: var(--sg-text-color, var(--theme-code-foreground, var(--jp-content-font-color1, white)));\n",
       "    --sklearn-color-icon: #878787;\n",
       "  }\n",
       "}\n",
       "\n",
       "#sk-container-id-1 {\n",
       "  color: var(--sklearn-color-text);\n",
       "}\n",
       "\n",
       "#sk-container-id-1 pre {\n",
       "  padding: 0;\n",
       "}\n",
       "\n",
       "#sk-container-id-1 input.sk-hidden--visually {\n",
       "  border: 0;\n",
       "  clip: rect(1px 1px 1px 1px);\n",
       "  clip: rect(1px, 1px, 1px, 1px);\n",
       "  height: 1px;\n",
       "  margin: -1px;\n",
       "  overflow: hidden;\n",
       "  padding: 0;\n",
       "  position: absolute;\n",
       "  width: 1px;\n",
       "}\n",
       "\n",
       "#sk-container-id-1 div.sk-dashed-wrapped {\n",
       "  border: 1px dashed var(--sklearn-color-line);\n",
       "  margin: 0 0.4em 0.5em 0.4em;\n",
       "  box-sizing: border-box;\n",
       "  padding-bottom: 0.4em;\n",
       "  background-color: var(--sklearn-color-background);\n",
       "}\n",
       "\n",
       "#sk-container-id-1 div.sk-container {\n",
       "  /* jupyter's `normalize.less` sets `[hidden] { display: none; }`\n",
       "     but bootstrap.min.css set `[hidden] { display: none !important; }`\n",
       "     so we also need the `!important` here to be able to override the\n",
       "     default hidden behavior on the sphinx rendered scikit-learn.org.\n",
       "     See: https://github.com/scikit-learn/scikit-learn/issues/21755 */\n",
       "  display: inline-block !important;\n",
       "  position: relative;\n",
       "}\n",
       "\n",
       "#sk-container-id-1 div.sk-text-repr-fallback {\n",
       "  display: none;\n",
       "}\n",
       "\n",
       "div.sk-parallel-item,\n",
       "div.sk-serial,\n",
       "div.sk-item {\n",
       "  /* draw centered vertical line to link estimators */\n",
       "  background-image: linear-gradient(var(--sklearn-color-text-on-default-background), var(--sklearn-color-text-on-default-background));\n",
       "  background-size: 2px 100%;\n",
       "  background-repeat: no-repeat;\n",
       "  background-position: center center;\n",
       "}\n",
       "\n",
       "/* Parallel-specific style estimator block */\n",
       "\n",
       "#sk-container-id-1 div.sk-parallel-item::after {\n",
       "  content: \"\";\n",
       "  width: 100%;\n",
       "  border-bottom: 2px solid var(--sklearn-color-text-on-default-background);\n",
       "  flex-grow: 1;\n",
       "}\n",
       "\n",
       "#sk-container-id-1 div.sk-parallel {\n",
       "  display: flex;\n",
       "  align-items: stretch;\n",
       "  justify-content: center;\n",
       "  background-color: var(--sklearn-color-background);\n",
       "  position: relative;\n",
       "}\n",
       "\n",
       "#sk-container-id-1 div.sk-parallel-item {\n",
       "  display: flex;\n",
       "  flex-direction: column;\n",
       "}\n",
       "\n",
       "#sk-container-id-1 div.sk-parallel-item:first-child::after {\n",
       "  align-self: flex-end;\n",
       "  width: 50%;\n",
       "}\n",
       "\n",
       "#sk-container-id-1 div.sk-parallel-item:last-child::after {\n",
       "  align-self: flex-start;\n",
       "  width: 50%;\n",
       "}\n",
       "\n",
       "#sk-container-id-1 div.sk-parallel-item:only-child::after {\n",
       "  width: 0;\n",
       "}\n",
       "\n",
       "/* Serial-specific style estimator block */\n",
       "\n",
       "#sk-container-id-1 div.sk-serial {\n",
       "  display: flex;\n",
       "  flex-direction: column;\n",
       "  align-items: center;\n",
       "  background-color: var(--sklearn-color-background);\n",
       "  padding-right: 1em;\n",
       "  padding-left: 1em;\n",
       "}\n",
       "\n",
       "\n",
       "/* Toggleable style: style used for estimator/Pipeline/ColumnTransformer box that is\n",
       "clickable and can be expanded/collapsed.\n",
       "- Pipeline and ColumnTransformer use this feature and define the default style\n",
       "- Estimators will overwrite some part of the style using the `sk-estimator` class\n",
       "*/\n",
       "\n",
       "/* Pipeline and ColumnTransformer style (default) */\n",
       "\n",
       "#sk-container-id-1 div.sk-toggleable {\n",
       "  /* Default theme specific background. It is overwritten whether we have a\n",
       "  specific estimator or a Pipeline/ColumnTransformer */\n",
       "  background-color: var(--sklearn-color-background);\n",
       "}\n",
       "\n",
       "/* Toggleable label */\n",
       "#sk-container-id-1 label.sk-toggleable__label {\n",
       "  cursor: pointer;\n",
       "  display: block;\n",
       "  width: 100%;\n",
       "  margin-bottom: 0;\n",
       "  padding: 0.5em;\n",
       "  box-sizing: border-box;\n",
       "  text-align: center;\n",
       "}\n",
       "\n",
       "#sk-container-id-1 label.sk-toggleable__label-arrow:before {\n",
       "  /* Arrow on the left of the label */\n",
       "  content: \"▸\";\n",
       "  float: left;\n",
       "  margin-right: 0.25em;\n",
       "  color: var(--sklearn-color-icon);\n",
       "}\n",
       "\n",
       "#sk-container-id-1 label.sk-toggleable__label-arrow:hover:before {\n",
       "  color: var(--sklearn-color-text);\n",
       "}\n",
       "\n",
       "/* Toggleable content - dropdown */\n",
       "\n",
       "#sk-container-id-1 div.sk-toggleable__content {\n",
       "  max-height: 0;\n",
       "  max-width: 0;\n",
       "  overflow: hidden;\n",
       "  text-align: left;\n",
       "  /* unfitted */\n",
       "  background-color: var(--sklearn-color-unfitted-level-0);\n",
       "}\n",
       "\n",
       "#sk-container-id-1 div.sk-toggleable__content.fitted {\n",
       "  /* fitted */\n",
       "  background-color: var(--sklearn-color-fitted-level-0);\n",
       "}\n",
       "\n",
       "#sk-container-id-1 div.sk-toggleable__content pre {\n",
       "  margin: 0.2em;\n",
       "  border-radius: 0.25em;\n",
       "  color: var(--sklearn-color-text);\n",
       "  /* unfitted */\n",
       "  background-color: var(--sklearn-color-unfitted-level-0);\n",
       "}\n",
       "\n",
       "#sk-container-id-1 div.sk-toggleable__content.fitted pre {\n",
       "  /* unfitted */\n",
       "  background-color: var(--sklearn-color-fitted-level-0);\n",
       "}\n",
       "\n",
       "#sk-container-id-1 input.sk-toggleable__control:checked~div.sk-toggleable__content {\n",
       "  /* Expand drop-down */\n",
       "  max-height: 200px;\n",
       "  max-width: 100%;\n",
       "  overflow: auto;\n",
       "}\n",
       "\n",
       "#sk-container-id-1 input.sk-toggleable__control:checked~label.sk-toggleable__label-arrow:before {\n",
       "  content: \"▾\";\n",
       "}\n",
       "\n",
       "/* Pipeline/ColumnTransformer-specific style */\n",
       "\n",
       "#sk-container-id-1 div.sk-label input.sk-toggleable__control:checked~label.sk-toggleable__label {\n",
       "  color: var(--sklearn-color-text);\n",
       "  background-color: var(--sklearn-color-unfitted-level-2);\n",
       "}\n",
       "\n",
       "#sk-container-id-1 div.sk-label.fitted input.sk-toggleable__control:checked~label.sk-toggleable__label {\n",
       "  background-color: var(--sklearn-color-fitted-level-2);\n",
       "}\n",
       "\n",
       "/* Estimator-specific style */\n",
       "\n",
       "/* Colorize estimator box */\n",
       "#sk-container-id-1 div.sk-estimator input.sk-toggleable__control:checked~label.sk-toggleable__label {\n",
       "  /* unfitted */\n",
       "  background-color: var(--sklearn-color-unfitted-level-2);\n",
       "}\n",
       "\n",
       "#sk-container-id-1 div.sk-estimator.fitted input.sk-toggleable__control:checked~label.sk-toggleable__label {\n",
       "  /* fitted */\n",
       "  background-color: var(--sklearn-color-fitted-level-2);\n",
       "}\n",
       "\n",
       "#sk-container-id-1 div.sk-label label.sk-toggleable__label,\n",
       "#sk-container-id-1 div.sk-label label {\n",
       "  /* The background is the default theme color */\n",
       "  color: var(--sklearn-color-text-on-default-background);\n",
       "}\n",
       "\n",
       "/* On hover, darken the color of the background */\n",
       "#sk-container-id-1 div.sk-label:hover label.sk-toggleable__label {\n",
       "  color: var(--sklearn-color-text);\n",
       "  background-color: var(--sklearn-color-unfitted-level-2);\n",
       "}\n",
       "\n",
       "/* Label box, darken color on hover, fitted */\n",
       "#sk-container-id-1 div.sk-label.fitted:hover label.sk-toggleable__label.fitted {\n",
       "  color: var(--sklearn-color-text);\n",
       "  background-color: var(--sklearn-color-fitted-level-2);\n",
       "}\n",
       "\n",
       "/* Estimator label */\n",
       "\n",
       "#sk-container-id-1 div.sk-label label {\n",
       "  font-family: monospace;\n",
       "  font-weight: bold;\n",
       "  display: inline-block;\n",
       "  line-height: 1.2em;\n",
       "}\n",
       "\n",
       "#sk-container-id-1 div.sk-label-container {\n",
       "  text-align: center;\n",
       "}\n",
       "\n",
       "/* Estimator-specific */\n",
       "#sk-container-id-1 div.sk-estimator {\n",
       "  font-family: monospace;\n",
       "  border: 1px dotted var(--sklearn-color-border-box);\n",
       "  border-radius: 0.25em;\n",
       "  box-sizing: border-box;\n",
       "  margin-bottom: 0.5em;\n",
       "  /* unfitted */\n",
       "  background-color: var(--sklearn-color-unfitted-level-0);\n",
       "}\n",
       "\n",
       "#sk-container-id-1 div.sk-estimator.fitted {\n",
       "  /* fitted */\n",
       "  background-color: var(--sklearn-color-fitted-level-0);\n",
       "}\n",
       "\n",
       "/* on hover */\n",
       "#sk-container-id-1 div.sk-estimator:hover {\n",
       "  /* unfitted */\n",
       "  background-color: var(--sklearn-color-unfitted-level-2);\n",
       "}\n",
       "\n",
       "#sk-container-id-1 div.sk-estimator.fitted:hover {\n",
       "  /* fitted */\n",
       "  background-color: var(--sklearn-color-fitted-level-2);\n",
       "}\n",
       "\n",
       "/* Specification for estimator info (e.g. \"i\" and \"?\") */\n",
       "\n",
       "/* Common style for \"i\" and \"?\" */\n",
       "\n",
       ".sk-estimator-doc-link,\n",
       "a:link.sk-estimator-doc-link,\n",
       "a:visited.sk-estimator-doc-link {\n",
       "  float: right;\n",
       "  font-size: smaller;\n",
       "  line-height: 1em;\n",
       "  font-family: monospace;\n",
       "  background-color: var(--sklearn-color-background);\n",
       "  border-radius: 1em;\n",
       "  height: 1em;\n",
       "  width: 1em;\n",
       "  text-decoration: none !important;\n",
       "  margin-left: 1ex;\n",
       "  /* unfitted */\n",
       "  border: var(--sklearn-color-unfitted-level-1) 1pt solid;\n",
       "  color: var(--sklearn-color-unfitted-level-1);\n",
       "}\n",
       "\n",
       ".sk-estimator-doc-link.fitted,\n",
       "a:link.sk-estimator-doc-link.fitted,\n",
       "a:visited.sk-estimator-doc-link.fitted {\n",
       "  /* fitted */\n",
       "  border: var(--sklearn-color-fitted-level-1) 1pt solid;\n",
       "  color: var(--sklearn-color-fitted-level-1);\n",
       "}\n",
       "\n",
       "/* On hover */\n",
       "div.sk-estimator:hover .sk-estimator-doc-link:hover,\n",
       ".sk-estimator-doc-link:hover,\n",
       "div.sk-label-container:hover .sk-estimator-doc-link:hover,\n",
       ".sk-estimator-doc-link:hover {\n",
       "  /* unfitted */\n",
       "  background-color: var(--sklearn-color-unfitted-level-3);\n",
       "  color: var(--sklearn-color-background);\n",
       "  text-decoration: none;\n",
       "}\n",
       "\n",
       "div.sk-estimator.fitted:hover .sk-estimator-doc-link.fitted:hover,\n",
       ".sk-estimator-doc-link.fitted:hover,\n",
       "div.sk-label-container:hover .sk-estimator-doc-link.fitted:hover,\n",
       ".sk-estimator-doc-link.fitted:hover {\n",
       "  /* fitted */\n",
       "  background-color: var(--sklearn-color-fitted-level-3);\n",
       "  color: var(--sklearn-color-background);\n",
       "  text-decoration: none;\n",
       "}\n",
       "\n",
       "/* Span, style for the box shown on hovering the info icon */\n",
       ".sk-estimator-doc-link span {\n",
       "  display: none;\n",
       "  z-index: 9999;\n",
       "  position: relative;\n",
       "  font-weight: normal;\n",
       "  right: .2ex;\n",
       "  padding: .5ex;\n",
       "  margin: .5ex;\n",
       "  width: min-content;\n",
       "  min-width: 20ex;\n",
       "  max-width: 50ex;\n",
       "  color: var(--sklearn-color-text);\n",
       "  box-shadow: 2pt 2pt 4pt #999;\n",
       "  /* unfitted */\n",
       "  background: var(--sklearn-color-unfitted-level-0);\n",
       "  border: .5pt solid var(--sklearn-color-unfitted-level-3);\n",
       "}\n",
       "\n",
       ".sk-estimator-doc-link.fitted span {\n",
       "  /* fitted */\n",
       "  background: var(--sklearn-color-fitted-level-0);\n",
       "  border: var(--sklearn-color-fitted-level-3);\n",
       "}\n",
       "\n",
       ".sk-estimator-doc-link:hover span {\n",
       "  display: block;\n",
       "}\n",
       "\n",
       "/* \"?\"-specific style due to the `<a>` HTML tag */\n",
       "\n",
       "#sk-container-id-1 a.estimator_doc_link {\n",
       "  float: right;\n",
       "  font-size: 1rem;\n",
       "  line-height: 1em;\n",
       "  font-family: monospace;\n",
       "  background-color: var(--sklearn-color-background);\n",
       "  border-radius: 1rem;\n",
       "  height: 1rem;\n",
       "  width: 1rem;\n",
       "  text-decoration: none;\n",
       "  /* unfitted */\n",
       "  color: var(--sklearn-color-unfitted-level-1);\n",
       "  border: var(--sklearn-color-unfitted-level-1) 1pt solid;\n",
       "}\n",
       "\n",
       "#sk-container-id-1 a.estimator_doc_link.fitted {\n",
       "  /* fitted */\n",
       "  border: var(--sklearn-color-fitted-level-1) 1pt solid;\n",
       "  color: var(--sklearn-color-fitted-level-1);\n",
       "}\n",
       "\n",
       "/* On hover */\n",
       "#sk-container-id-1 a.estimator_doc_link:hover {\n",
       "  /* unfitted */\n",
       "  background-color: var(--sklearn-color-unfitted-level-3);\n",
       "  color: var(--sklearn-color-background);\n",
       "  text-decoration: none;\n",
       "}\n",
       "\n",
       "#sk-container-id-1 a.estimator_doc_link.fitted:hover {\n",
       "  /* fitted */\n",
       "  background-color: var(--sklearn-color-fitted-level-3);\n",
       "}\n",
       "</style><div id=\"sk-container-id-1\" class=\"sk-top-container\"><div class=\"sk-text-repr-fallback\"><pre>LinearRegression()</pre><b>In a Jupyter environment, please rerun this cell to show the HTML representation or trust the notebook. <br />On GitHub, the HTML representation is unable to render, please try loading this page with nbviewer.org.</b></div><div class=\"sk-container\" hidden><div class=\"sk-item\"><div class=\"sk-estimator fitted sk-toggleable\"><input class=\"sk-toggleable__control sk-hidden--visually\" id=\"sk-estimator-id-1\" type=\"checkbox\" checked><label for=\"sk-estimator-id-1\" class=\"sk-toggleable__label fitted sk-toggleable__label-arrow fitted\">&nbsp;&nbsp;LinearRegression<a class=\"sk-estimator-doc-link fitted\" rel=\"noreferrer\" target=\"_blank\" href=\"https://scikit-learn.org/1.4/modules/generated/sklearn.linear_model.LinearRegression.html\">?<span>Documentation for LinearRegression</span></a><span class=\"sk-estimator-doc-link fitted\">i<span>Fitted</span></span></label><div class=\"sk-toggleable__content fitted\"><pre>LinearRegression()</pre></div> </div></div></div></div>"
      ],
      "text/plain": [
       "LinearRegression()"
      ]
     },
     "execution_count": 41,
     "metadata": {},
     "output_type": "execute_result"
    }
   ],
   "source": [
    "model.fit(X_train, y_train)"
   ]
  },
  {
   "cell_type": "markdown",
   "id": "834658c7",
   "metadata": {
    "id": "834658c7",
    "papermill": {
     "duration": 0.017863,
     "end_time": "2024-03-13T13:43:24.951083",
     "exception": false,
     "start_time": "2024-03-13T13:43:24.933220",
     "status": "completed"
    },
    "tags": []
   },
   "source": [
    "**Predict the stress levels for the test data**"
   ]
  },
  {
   "cell_type": "code",
   "execution_count": 44,
   "id": "4d362982",
   "metadata": {
    "id": "4d362982",
    "papermill": {
     "duration": 0.028266,
     "end_time": "2024-03-13T13:43:24.997573",
     "exception": false,
     "start_time": "2024-03-13T13:43:24.969307",
     "status": "completed"
    },
    "tags": []
   },
   "outputs": [],
   "source": [
    "y_pred = model.predict(X_test)"
   ]
  },
  {
   "cell_type": "markdown",
   "id": "2fa9962b",
   "metadata": {
    "id": "2fa9962b",
    "papermill": {
     "duration": 0.019257,
     "end_time": "2024-03-13T13:43:25.035083",
     "exception": false,
     "start_time": "2024-03-13T13:43:25.015826",
     "status": "completed"
    },
    "tags": []
   },
   "source": [
    "**Calculate Mean Squared Error (MSE) to evaluate the model's performance**"
   ]
  },
  {
   "cell_type": "code",
   "execution_count": 47,
   "id": "bfb7c8d2",
   "metadata": {
    "colab": {
     "base_uri": "https://localhost:8080/"
    },
    "id": "bfb7c8d2",
    "outputId": "1f77189b-3773-4d04-d060-75709d861d10",
    "papermill": {
     "duration": 0.095615,
     "end_time": "2024-03-13T13:43:25.149055",
     "exception": false,
     "start_time": "2024-03-13T13:43:25.053440",
     "status": "completed"
    },
    "tags": []
   },
   "outputs": [
    {
     "name": "stdout",
     "output_type": "stream",
     "text": [
      "Mean Squared Error: 0.0774531669947098\n"
     ]
    }
   ],
   "source": [
    "mse = mean_squared_error(y_test, y_pred)\n",
    "print(\"Mean Squared Error:\", mse)"
   ]
  },
  {
   "cell_type": "markdown",
   "id": "310cf00d",
   "metadata": {
    "id": "310cf00d",
    "papermill": {
     "duration": 0.020231,
     "end_time": "2024-03-13T13:43:25.187367",
     "exception": false,
     "start_time": "2024-03-13T13:43:25.167136",
     "status": "completed"
    },
    "tags": []
   },
   "source": [
    "**Improving the accuracy using more advanced machine learning algorithms or techniques that may better capture the underlying patterns in your data**"
   ]
  },
  {
   "cell_type": "markdown",
   "id": "e71fec82",
   "metadata": {
    "id": "e71fec82",
    "papermill": {
     "duration": 0.018747,
     "end_time": "2024-03-13T13:43:25.224977",
     "exception": false,
     "start_time": "2024-03-13T13:43:25.206230",
     "status": "completed"
    },
    "tags": []
   },
   "source": [
    "**Initialize the Support Vector Classifier**"
   ]
  },
  {
   "cell_type": "code",
   "execution_count": 51,
   "id": "446d1e52",
   "metadata": {
    "colab": {
     "base_uri": "https://localhost:8080/"
    },
    "id": "446d1e52",
    "outputId": "4547756e-9afd-4d98-ea2c-c62a4a48c5d9",
    "papermill": {
     "duration": 0.051206,
     "end_time": "2024-03-13T13:43:25.294742",
     "exception": false,
     "start_time": "2024-03-13T13:43:25.243536",
     "status": "completed"
    },
    "tags": []
   },
   "outputs": [
    {
     "name": "stdout",
     "output_type": "stream",
     "text": [
      "Accuracy: 0.9975062344139651\n"
     ]
    }
   ],
   "source": [
    "from sklearn.preprocessing import StandardScaler\n",
    "from sklearn.svm import SVC\n",
    "from sklearn.metrics import accuracy_score\n",
    "\n",
    "# Create an instance of StandardScaler\n",
    "scaler = StandardScaler()\n",
    "\n",
    "# Standardize features by removing the mean and scaling to unit variance\n",
    "X_train_scaled = scaler.fit_transform(X_train)\n",
    "X_test_scaled = scaler.transform(X_test)\n",
    "\n",
    "# Initialize the Support Vector Classifier (SVC) model with a linear kernel\n",
    "classifier = SVC(kernel='linear', random_state=0)\n",
    "\n",
    "# Train the SVC model\n",
    "classifier.fit(X_train_scaled, y_train)\n",
    "\n",
    "# Make predictions on the test set\n",
    "y_pred = classifier.predict(X_test_scaled)\n",
    "\n",
    "# Calculate accuracy score\n",
    "score = accuracy_score(y_test, y_pred)\n",
    "print(\"Accuracy:\", score)\n"
   ]
  },
  {
   "cell_type": "markdown",
   "id": "fdae8601",
   "metadata": {
    "id": "fdae8601",
    "papermill": {
     "duration": 0.019369,
     "end_time": "2024-03-13T13:43:25.333077",
     "exception": false,
     "start_time": "2024-03-13T13:43:25.313708",
     "status": "completed"
    },
    "tags": []
   },
   "source": [
    "**Initialize the RandomForestClassifier model**"
   ]
  },
  {
   "cell_type": "code",
   "execution_count": 54,
   "id": "6ebd208e",
   "metadata": {
    "colab": {
     "base_uri": "https://localhost:8080/"
    },
    "id": "6ebd208e",
    "outputId": "aeab7d3b-1f86-4947-fc41-83db12703820",
    "papermill": {
     "duration": 0.554282,
     "end_time": "2024-03-13T13:43:25.905940",
     "exception": false,
     "start_time": "2024-03-13T13:43:25.351658",
     "status": "completed"
    },
    "tags": []
   },
   "outputs": [
    {
     "name": "stdout",
     "output_type": "stream",
     "text": [
      "Confusion Matrix:\n",
      "[[ 83   0   0]\n",
      " [  0 166   0]\n",
      " [  0   0 152]]\n"
     ]
    }
   ],
   "source": [
    "from sklearn.ensemble import RandomForestClassifier\n",
    "from sklearn.metrics import confusion_matrix\n",
    "\n",
    "# Initialize the RandomForestClassifier model\n",
    "model = RandomForestClassifier(n_estimators=100, max_depth=3, random_state=0)\n",
    "\n",
    "# Train the model on the entire dataset\n",
    "model.fit(X, y)\n",
    "\n",
    "# Predict stress levels for the test data\n",
    "prediction = model.predict(X_test)\n",
    "\n",
    "# Calculate confusion matrix\n",
    "confusion_matrix = confusion_matrix(y_test, prediction)\n",
    "print(\"Confusion Matrix:\")\n",
    "print(confusion_matrix)\n"
   ]
  },
  {
   "cell_type": "code",
   "execution_count": 56,
   "id": "3301edcc",
   "metadata": {
    "colab": {
     "base_uri": "https://localhost:8080/"
    },
    "id": "3301edcc",
    "outputId": "bbbb5529-d794-4ade-de7a-d10aa297fc5c",
    "papermill": {
     "duration": 0.031873,
     "end_time": "2024-03-13T13:43:25.956232",
     "exception": false,
     "start_time": "2024-03-13T13:43:25.924359",
     "status": "completed"
    },
    "tags": []
   },
   "outputs": [
    {
     "name": "stdout",
     "output_type": "stream",
     "text": [
      "Accuracy: 1.0\n"
     ]
    }
   ],
   "source": [
    "from sklearn.metrics import accuracy_score\n",
    "\n",
    "# Calculate accuracy\n",
    "accuracy = accuracy_score(y_test, prediction)\n",
    "print(\"Accuracy:\", accuracy)\n"
   ]
  },
  {
   "cell_type": "markdown",
   "id": "b641cb7e",
   "metadata": {
    "id": "b641cb7e",
    "papermill": {
     "duration": 0.018017,
     "end_time": "2024-03-13T13:43:25.994046",
     "exception": false,
     "start_time": "2024-03-13T13:43:25.976029",
     "status": "completed"
    },
    "tags": []
   },
   "source": [
    "# Classification Report"
   ]
  },
  {
   "cell_type": "code",
   "execution_count": 59,
   "id": "1797045c",
   "metadata": {
    "colab": {
     "base_uri": "https://localhost:8080/"
    },
    "id": "1797045c",
    "outputId": "ecceefc5-8865-4661-c9ad-b4131a92198d",
    "papermill": {
     "duration": 0.05197,
     "end_time": "2024-03-13T13:43:26.064223",
     "exception": false,
     "start_time": "2024-03-13T13:43:26.012253",
     "status": "completed"
    },
    "tags": []
   },
   "outputs": [
    {
     "name": "stdout",
     "output_type": "stream",
     "text": [
      "Classification Report (Random Forest Classifier):\n",
      "              precision    recall  f1-score   support\n",
      "\n",
      "           0       1.00      1.00      1.00        83\n",
      "           1       1.00      1.00      1.00       166\n",
      "           2       1.00      1.00      1.00       152\n",
      "\n",
      "    accuracy                           1.00       401\n",
      "   macro avg       1.00      1.00      1.00       401\n",
      "weighted avg       1.00      1.00      1.00       401\n",
      "\n",
      "Classification Report (SVC with Linear Kernel):\n",
      "              precision    recall  f1-score   support\n",
      "\n",
      "           0       1.00      1.00      1.00        83\n",
      "           1       0.99      1.00      1.00       166\n",
      "           2       1.00      0.99      1.00       152\n",
      "\n",
      "    accuracy                           1.00       401\n",
      "   macro avg       1.00      1.00      1.00       401\n",
      "weighted avg       1.00      1.00      1.00       401\n",
      "\n"
     ]
    }
   ],
   "source": [
    "from sklearn.metrics import classification_report\n",
    "\n",
    "# Random Forest Classifier\n",
    "print(\"Classification Report (Random Forest Classifier):\")\n",
    "print(classification_report(y_test, prediction))  # Corrected from prediction_rf to prediction\n",
    "\n",
    "# Support Vector Classifier (SVC) with Linear Kernel\n",
    "# Make predictions on the test set using SVC\n",
    "y_pred_svc = classifier.predict(X_test_scaled)\n",
    "\n",
    "# Print classification report for SVC\n",
    "print(\"Classification Report (SVC with Linear Kernel):\")\n",
    "print(classification_report(y_test, y_pred_svc))\n",
    "\n",
    "# Note: Since Linear Regression is a regression model, it doesn't have a classification report.\n"
   ]
  },
  {
   "cell_type": "markdown",
   "id": "6209275c",
   "metadata": {
    "id": "6209275c",
    "papermill": {
     "duration": 0.019171,
     "end_time": "2024-03-13T13:43:26.103637",
     "exception": false,
     "start_time": "2024-03-13T13:43:26.084466",
     "status": "completed"
    },
    "tags": []
   },
   "source": [
    "* The classification reports showcase the exceptional performance of two machine learning models, the Random Forest Classifier and the Support Vector Classifier (SVC) with a Linear Kernel, in predicting stress levels.\n",
    "\n",
    "* Both models achieved a remarkable accuracy of 1.00, indicating precise classification across all classes. Additionally, high precision, recall, and F1-scores for each class further underscore the models' effectiveness in accurately identifying stress levels."
   ]
  },
  {
   "cell_type": "markdown",
   "id": "6f43194c",
   "metadata": {
    "id": "6f43194c",
    "papermill": {
     "duration": 0.018726,
     "end_time": "2024-03-13T13:43:26.142736",
     "exception": false,
     "start_time": "2024-03-13T13:43:26.124010",
     "status": "completed"
    },
    "tags": []
   },
   "source": [
    "#  Accuracy scores or Mean Squared Errors of the three models"
   ]
  },
  {
   "cell_type": "code",
   "execution_count": 63,
   "id": "4cfef30c",
   "metadata": {
    "colab": {
     "base_uri": "https://localhost:8080/",
     "height": 655
    },
    "id": "4cfef30c",
    "outputId": "df27d62e-7140-43fd-ce70-9090babb8096",
    "papermill": {
     "duration": 0.285478,
     "end_time": "2024-03-13T13:43:26.447790",
     "exception": false,
     "start_time": "2024-03-13T13:43:26.162312",
     "status": "completed"
    },
    "tags": []
   },
   "outputs": [
    {
     "data": {
      "image/png": "[encoded data removed]",
      "text/plain": [
       "<Figure size 1000x600 with 1 Axes>"
      ]
     },
     "metadata": {},
     "output_type": "display_data"
    }
   ],
   "source": [
    "import numpy as np\n",
    "import matplotlib.pyplot as plt\n",
    "\n",
    "# Define the accuracy scores or Mean Squared Errors of the three models\n",
    "accuracies = [score, accuracy, 1 - mse]  # Using the scores and MSE calculated from your original code\n",
    "\n",
    "# Model names\n",
    "models = ['Random Forest', 'SVC (Linear Kernel)', 'Linear Regression']\n",
    "\n",
    "# Create a gradient of blues for the color palette\n",
    "num_models = len(models)\n",
    "colors = plt.cm.Blues(np.linspace(0.2, 0.8, num_models))  # Adjust the range as needed\n",
    "\n",
    "# Plotting the bar plot\n",
    "plt.figure(figsize=(10, 6))\n",
    "plt.bar(models, accuracies, color=colors)\n",
    "plt.title('Performance Comparison of Models')\n",
    "plt.xlabel('Models')\n",
    "plt.ylabel('Accuracy' if accuracies[0] <= 1 else 'Mean Squared Error')  # Label depends on the metric\n",
    "plt.ylim(min(accuracies) - 0.1, max(accuracies) + 0.1)  # Dynamically set y-axis limits\n",
    "plt.xticks(rotation=45)\n",
    "plt.grid(axis='y')\n",
    "\n",
    "# Show the plot\n",
    "plt.show()\n"
   ]
  },
  {
   "cell_type": "markdown",
   "id": "caec74e2",
   "metadata": {
    "id": "caec74e2",
    "papermill": {
     "duration": 0.02034,
     "end_time": "2024-03-13T13:43:26.488525",
     "exception": false,
     "start_time": "2024-03-13T13:43:26.468185",
     "status": "completed"
    },
    "tags": []
   },
   "source": [
    "# Project Summary"
   ]
  },
  {
   "cell_type": "markdown",
   "id": "6f200239",
   "metadata": {
    "id": "6f200239",
    "papermill": {
     "duration": 0.022909,
     "end_time": "2024-03-13T13:43:26.533382",
     "exception": false,
     "start_time": "2024-03-13T13:43:26.510473",
     "status": "completed"
    },
    "tags": []
   },
   "source": [
    "**This project compared three machine learning models (Random Forest Classifier, SVC with Linear Kernel, and Linear Regression) for predicting stress levels. The models were trained, evaluated using accuracy (for classification models) or mean squared error (for regression), and their performance was visualized using a bar plot. The Random Forest Classifier achieved the highest accuracy, followed closely by SVC with Linear Kernel, while Linear Regression had comparatively lower performance. The choice of model may depend on factors like interpretability and computational resources.**"
   ]
  },
  {
   "cell_type": "code",
   "execution_count": 67,
   "id": "U_hUeV5TKPzy",
   "metadata": {
    "colab": {
     "base_uri": "https://localhost:8080/"
    },
    "id": "U_hUeV5TKPzy",
    "outputId": "7bd7f186-82ab-4310-b36d-0213e0f5a4ac"
   },
   "outputs": [
    {
     "name": "stdout",
     "output_type": "stream",
     "text": [
      "Random Forest Predictions (Stress Levels): ['Low', 'High', 'Low']\n",
      "SVC Predictions (Stress Levels): ['Low', 'Medium', 'Low']\n"
     ]
    }
   ],
   "source": [
    "# Define sample inputs for testing (replace with realistic values for your dataset)\n",
    "sample_inputs = [\n",
    "    [10.87, 79.87, 87],  \n",
    "    [23.37, 92.37, 100],  \n",
    "    [0, 0, 0], \n",
    "]\n",
    "\n",
    "# Convert sample inputs into a DataFrame\n",
    "sample_df = pd.DataFrame(sample_inputs, columns=['Humidity', 'Temperature', 'Step_count'])\n",
    "\n",
    "# Standardize the inputs (if using SVC or any model that requires scaled inputs)\n",
    "sample_scaled = scaler.transform(sample_df)\n",
    "\n",
    "# Predict stress levels using Random Forest Classifier\n",
    "rf_predictions = model.predict(sample_df)\n",
    "\n",
    "\n",
    "# Map numerical predictions to categorical labels\n",
    "stress_mapping = {0: 'Low', 1: 'Medium', 2: 'High'}\n",
    "rf_stress_levels = [stress_mapping[pred] for pred in rf_predictions]\n",
    "\n",
    "# Display predictions\n",
    "print(\"Random Forest Predictions (Stress Levels):\", rf_stress_levels)\n"
   ]
  },
  {
   "cell_type": "code",
   "execution_count": 108,
   "id": "640fb45e-07fd-439e-8041-44506e6a6a69",
   "metadata": {},
   "outputs": [
    {
     "name": "stdout",
     "output_type": "stream",
     "text": [
      "WARNING:tensorflow:From C:\\Users\\kumar\\anaconda3\\Lib\\site-packages\\keras\\src\\backend\\tensorflow\\core.py:204: The name tf.placeholder is deprecated. Please use tf.compat.v1.placeholder instead.\n",
      "\n"
     ]
    },
    {
     "ename": "AttributeError",
     "evalue": "Exception encountered when calling SklearnModelLayer.call().\n\n\u001b[1mCould not automatically infer the output shape / dtype of 'sklearn_model_layer' (of type SklearnModelLayer). Either the `SklearnModelLayer.call()` method is incorrect, or you need to implement the `SklearnModelLayer.compute_output_spec() / compute_output_shape()` method. Error encountered:\n\n'SymbolicTensor' object has no attribute 'numpy'\u001b[0m\n\nArguments received by SklearnModelLayer.call():\n  • args=('<KerasTensor shape=(None, 1), dtype=float32, sparse=False, name=keras_tensor_2>',)\n  • kwargs=<class 'inspect._empty'>",
     "output_type": "error",
     "traceback": [
      "\u001b[1;31m---------------------------------------------------------------------------\u001b[0m",
      "\u001b[1;31mAttributeError\u001b[0m                            Traceback (most recent call last)",
      "Cell \u001b[1;32mIn[108], line 25\u001b[0m\n\u001b[0;32m     23\u001b[0m \u001b[38;5;66;03m# Create a Keras model using the functional API\u001b[39;00m\n\u001b[0;32m     24\u001b[0m inputs \u001b[38;5;241m=\u001b[39m keras\u001b[38;5;241m.\u001b[39mInput(shape\u001b[38;5;241m=\u001b[39m(\u001b[38;5;241m1\u001b[39m,), dtype\u001b[38;5;241m=\u001b[39mtf\u001b[38;5;241m.\u001b[39mfloat32)  \u001b[38;5;66;03m# Adjust shape as needed\u001b[39;00m\n\u001b[1;32m---> 25\u001b[0m outputs \u001b[38;5;241m=\u001b[39m SklearnModelLayer(sklearn_model)(inputs)\n\u001b[0;32m     26\u001b[0m model \u001b[38;5;241m=\u001b[39m keras\u001b[38;5;241m.\u001b[39mModel(inputs\u001b[38;5;241m=\u001b[39minputs, outputs\u001b[38;5;241m=\u001b[39moutputs)\n\u001b[0;32m     28\u001b[0m \u001b[38;5;66;03m# Compile the model (necessary for Keras models)\u001b[39;00m\n",
      "File \u001b[1;32m~\\anaconda3\\Lib\\site-packages\\keras\\src\\utils\\traceback_utils.py:122\u001b[0m, in \u001b[0;36mfilter_traceback.<locals>.error_handler\u001b[1;34m(*args, **kwargs)\u001b[0m\n\u001b[0;32m    119\u001b[0m     filtered_tb \u001b[38;5;241m=\u001b[39m _process_traceback_frames(e\u001b[38;5;241m.\u001b[39m__traceback__)\n\u001b[0;32m    120\u001b[0m     \u001b[38;5;66;03m# To get the full stack trace, call:\u001b[39;00m\n\u001b[0;32m    121\u001b[0m     \u001b[38;5;66;03m# `keras.config.disable_traceback_filtering()`\u001b[39;00m\n\u001b[1;32m--> 122\u001b[0m     \u001b[38;5;28;01mraise\u001b[39;00m e\u001b[38;5;241m.\u001b[39mwith_traceback(filtered_tb) \u001b[38;5;28;01mfrom\u001b[39;00m \u001b[38;5;28;01mNone\u001b[39;00m\n\u001b[0;32m    123\u001b[0m \u001b[38;5;28;01mfinally\u001b[39;00m:\n\u001b[0;32m    124\u001b[0m     \u001b[38;5;28;01mdel\u001b[39;00m filtered_tb\n",
      "Cell \u001b[1;32mIn[108], line 19\u001b[0m, in \u001b[0;36mSklearnModelLayer.call\u001b[1;34m(self, inputs)\u001b[0m\n\u001b[0;32m     17\u001b[0m \u001b[38;5;28;01mdef\u001b[39;00m \u001b[38;5;21mcall\u001b[39m(\u001b[38;5;28mself\u001b[39m, inputs):\n\u001b[0;32m     18\u001b[0m     \u001b[38;5;66;03m# Convert inputs to numpy array and make predictions\u001b[39;00m\n\u001b[1;32m---> 19\u001b[0m     inputs_np \u001b[38;5;241m=\u001b[39m inputs\u001b[38;5;241m.\u001b[39mnumpy()  \u001b[38;5;66;03m# Convert to numpy array\u001b[39;00m\n\u001b[0;32m     20\u001b[0m     predictions \u001b[38;5;241m=\u001b[39m \u001b[38;5;28mself\u001b[39m\u001b[38;5;241m.\u001b[39msklearn_model\u001b[38;5;241m.\u001b[39mpredict(inputs_np)\n\u001b[0;32m     21\u001b[0m     \u001b[38;5;28;01mreturn\u001b[39;00m tf\u001b[38;5;241m.\u001b[39mconvert_to_tensor(predictions, dtype\u001b[38;5;241m=\u001b[39mtf\u001b[38;5;241m.\u001b[39mfloat32)\n",
      "\u001b[1;31mAttributeError\u001b[0m: Exception encountered when calling SklearnModelLayer.call().\n\n\u001b[1mCould not automatically infer the output shape / dtype of 'sklearn_model_layer' (of type SklearnModelLayer). Either the `SklearnModelLayer.call()` method is incorrect, or you need to implement the `SklearnModelLayer.compute_output_spec() / compute_output_shape()` method. Error encountered:\n\n'SymbolicTensor' object has no attribute 'numpy'\u001b[0m\n\nArguments received by SklearnModelLayer.call():\n  • args=('<KerasTensor shape=(None, 1), dtype=float32, sparse=False, name=keras_tensor_2>',)\n  • kwargs=<class 'inspect._empty'>"
     ]
    }
   ],
   "source": [
    "import pickle\n",
    "import numpy as np\n",
    "import tensorflow as tf\n",
    "from tensorflow import keras\n",
    "from tensorflow.keras import layers\n",
    "\n",
    "# Load the scikit-learn model from the .pkl file\n",
    "with open('stress_model2.pkl', 'rb') as file:\n",
    "    sklearn_model = pickle.load(file)\n",
    "\n",
    "# Define a custom Keras layer that wraps the scikit-learn model\n",
    "class SklearnModelLayer(layers.Layer):\n",
    "    def __init__(self, sklearn_model):\n",
    "        super(SklearnModelLayer, self).__init__()\n",
    "        self.sklearn_model = sklearn_model\n",
    "\n",
    "    def call(self, inputs):\n",
    "        # Convert inputs to numpy array and make predictions\n",
    "        inputs_np = inputs.numpy()  # Convert to numpy array\n",
    "        predictions = self.sklearn_model.predict(inputs_np)\n",
    "        return tf.convert_to_tensor(predictions, dtype=tf.float32)\n",
    "\n",
    "# Create a Keras model using the functional API\n",
    "inputs = keras.Input(shape=(1,), dtype=tf.float32)  # Adjust shape as needed\n",
    "outputs = SklearnModelLayer(sklearn_model)(inputs)\n",
    "model = keras.Model(inputs=inputs, outputs=outputs)\n",
    "\n",
    "# Compile the model (necessary for Keras models)\n",
    "model.compile(optimizer='adam', loss='sparse_categorical_crossentropy', metrics=['accuracy'])\n",
    "\n",
    "# Convert the Keras model to TensorFlow Lite format\n",
    "converter = tf.lite.TFLiteConverter.from_keras_model(model)\n",
    "tflite_model = converter.convert()\n",
    "\n",
    "# Save the TensorFlow Lite model to stress_model2.tflite\n",
    "with open('stress_model2.tflite', 'wb') as f:\n",
    "    f.write(tflite_model)\n",
    "\n",
    "print(\"Model converted to stress_model2.tflite format and saved successfully.\")"
   ]
  },
  {
   "cell_type": "code",
   "execution_count": null,
   "id": "4b1bca37-90b4-4509-b8b6-f2dcc159b297",
   "metadata": {},
   "outputs": [],
   "source": [
    "\"C:/Users/kumar/stress_model/stress_model2.tflite\""
   ]
  },
  {
   "cell_type": "code",
   "execution_count": 128,
   "id": "422622b9-2696-463d-8405-b4f0b07336f9",
   "metadata": {},
   "outputs": [
    {
     "name": "stdout",
     "output_type": "stream",
     "text": [
      "   Humidity  Temperature  Step_count Predicted Stress Level\n",
      "0     10.87        79.87          87                    Low\n",
      "1     23.37        92.37         100                 Medium\n",
      "2     28.06        97.06         148                   High\n"
     ]
    }
   ],
   "source": [
    "import numpy as np\n",
    "import tensorflow as tf\n",
    "import pandas as pd\n",
    "from sklearn.preprocessing import StandardScaler\n",
    "\n",
    "# Load the TFLite model\n",
    "tflite_model_path = \"C:/Users/kumar/stress_model/stress_model2.tflite\"  # Replace with the path to your TFLite model\n",
    "interpreter = tf.lite.Interpreter(model_path=tflite_model_path)\n",
    "interpreter.allocate_tensors()\n",
    "\n",
    "# Get input and output details\n",
    "input_details = interpreter.get_input_details()\n",
    "output_details = interpreter.get_output_details()\n",
    "\n",
    "# Load or define the scaler used during training\n",
    "scaler = StandardScaler()\n",
    "scaler.mean_ = np.array([20.000000, 89.000000, 100.141429])  \n",
    "scaler.scale_ = np.array([5.777833, 5.777833, 58.182948]) \n",
    "\n",
    "# Define a function to predict stress levels\n",
    "def predict_stress_levels(inputs):\n",
    "    stress_mapping = {0: \"Low\", 1: \"Medium\", 2: \"High\"}  # Adjust based on your model's output classes\n",
    "    \n",
    "    # Standardize the inputs\n",
    "    scaled_inputs = scaler.transform(inputs)\n",
    "    \n",
    "    # List to store predictions\n",
    "    predictions = []\n",
    "    \n",
    "    for input_row in scaled_inputs:\n",
    "        # Prepare input data\n",
    "        input_data = np.array([input_row], dtype=np.float32)\n",
    "        \n",
    "        # Set the input tensor\n",
    "        interpreter.set_tensor(input_details[0]['index'], input_data)\n",
    "        \n",
    "        # Invoke the interpreter\n",
    "        interpreter.invoke()\n",
    "        \n",
    "        # Get the output\n",
    "        output_data = interpreter.get_tensor(output_details[0]['index'])[0]  # Assuming single-row output\n",
    "        \n",
    "        # Assuming the model outputs probabilities or logits, take argmax for classification\n",
    "        predicted_class = np.argmax(output_data)\n",
    "        \n",
    "        # Map the prediction to the stress category\n",
    "        predictions.append(stress_mapping[predicted_class])\n",
    "    \n",
    "    return predictions\n",
    "\n",
    "# Define sample inputs for testing\n",
    "sample_inputs = [\n",
    "    [10.87, 79.87, 87],  \n",
    "    [23.37, 92.37, 100],  \n",
    "    [28.06, 97.06, 148], \n",
    "]\n",
    "\n",
    "# Convert sample inputs into a DataFrame\n",
    "sample_df = pd.DataFrame(sample_inputs, columns=[\"Humidity\", \"Temperature\", \"Step_count\"])\n",
    "\n",
    "# Predict stress levels\n",
    "stress_levels = predict_stress_levels(sample_inputs)\n",
    "\n",
    "# Display predictions\n",
    "sample_df[\"Predicted Stress Level\"] = stress_levels\n",
    "print(sample_df)\n"
   ]
  },
  {
   "cell_type": "code",
   "execution_count": null,
   "id": "240c7840-40bd-4ab1-be78-832b5448088f",
   "metadata": {},
   "outputs": [],
   "source": []
  }
 ],
 "metadata": {
  "colab": {
   "provenance": []
  },
  "kaggle": {
   "accelerator": "none",
   "dataSources": [
    {
     "datasetId": 2789271,
     "sourceId": 4816636,
     "sourceType": "datasetVersion"
    }
   ],
   "dockerImageVersionId": 30664,
   "isGpuEnabled": false,
   "isInternetEnabled": true,
   "language": "python",
   "sourceType": "notebook"
  },
  "kernelspec": {
   "display_name": "Python 3 (ipykernel)",
   "language": "python",
   "name": "python3"
  },
  "language_info": {
   "codemirror_mode": {
    "name": "ipython",
    "version": 3
   },
   "file_extension": ".py",
   "mimetype": "text/x-python",
   "name": "python",
   "nbconvert_exporter": "python",
   "pygments_lexer": "ipython3",
   "version": "3.12.4"
  },
  "papermill": {
   "default_parameters": {},
   "duration": 29.712585,
   "end_time": "2024-03-13T13:43:27.282760",
   "environment_variables": {},
   "exception": null,
   "input_path": "__notebook__.ipynb",
   "output_path": "__notebook__.ipynb",
   "parameters": {},
   "start_time": "2024-03-13T13:42:57.570175",
   "version": "2.5.0"
  }
 },
 "nbformat": 4,
 "nbformat_minor": 5
}
