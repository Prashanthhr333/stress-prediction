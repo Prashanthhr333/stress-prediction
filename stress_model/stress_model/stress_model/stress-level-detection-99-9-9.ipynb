{
 "cells": [
  {
   "cell_type": "code",
   "execution_count": 1,
   "id": "31149bb6",
   "metadata": {
    "execution": {
     "iopub.execute_input": "2024-03-13T13:43:00.952863Z",
     "iopub.status.busy": "2024-03-13T13:43:00.952391Z",
     "iopub.status.idle": "2024-03-13T13:43:18.482985Z",
     "shell.execute_reply": "2024-03-13T13:43:18.481243Z"
    },
    "papermill": {
     "duration": 17.54775,
     "end_time": "2024-03-13T13:43:18.485758",
     "exception": false,
     "start_time": "2024-03-13T13:43:00.938008",
     "status": "completed"
    },
    "tags": []
   },
   "outputs": [
    {
     "name": "stdout",
     "output_type": "stream",
     "text": [
      "Requirement already satisfied: seaborn in /opt/conda/lib/python3.10/site-packages (0.12.2)\r\n",
      "Requirement already satisfied: numpy!=1.24.0,>=1.17 in /opt/conda/lib/python3.10/site-packages (from seaborn) (1.26.4)\r\n",
      "Requirement already satisfied: pandas>=0.25 in /opt/conda/lib/python3.10/site-packages (from seaborn) (2.2.0)\r\n",
      "Requirement already satisfied: matplotlib!=3.6.1,>=3.1 in /opt/conda/lib/python3.10/site-packages (from seaborn) (3.7.5)\r\n",
      "Requirement already satisfied: contourpy>=1.0.1 in /opt/conda/lib/python3.10/site-packages (from matplotlib!=3.6.1,>=3.1->seaborn) (1.2.0)\r\n",
      "Requirement already satisfied: cycler>=0.10 in /opt/conda/lib/python3.10/site-packages (from matplotlib!=3.6.1,>=3.1->seaborn) (0.12.1)\r\n",
      "Requirement already satisfied: fonttools>=4.22.0 in /opt/conda/lib/python3.10/site-packages (from matplotlib!=3.6.1,>=3.1->seaborn) (4.47.0)\r\n",
      "Requirement already satisfied: kiwisolver>=1.0.1 in /opt/conda/lib/python3.10/site-packages (from matplotlib!=3.6.1,>=3.1->seaborn) (1.4.5)\r\n",
      "Requirement already satisfied: packaging>=20.0 in /opt/conda/lib/python3.10/site-packages (from matplotlib!=3.6.1,>=3.1->seaborn) (21.3)\r\n",
      "Requirement already satisfied: pillow>=6.2.0 in /opt/conda/lib/python3.10/site-packages (from matplotlib!=3.6.1,>=3.1->seaborn) (9.5.0)\r\n",
      "Requirement already satisfied: pyparsing>=2.3.1 in /opt/conda/lib/python3.10/site-packages (from matplotlib!=3.6.1,>=3.1->seaborn) (3.1.1)\r\n",
      "Requirement already satisfied: python-dateutil>=2.7 in /opt/conda/lib/python3.10/site-packages (from matplotlib!=3.6.1,>=3.1->seaborn) (2.8.2)\r\n",
      "Requirement already satisfied: pytz>=2020.1 in /opt/conda/lib/python3.10/site-packages (from pandas>=0.25->seaborn) (2023.3.post1)\r\n",
      "Requirement already satisfied: tzdata>=2022.7 in /opt/conda/lib/python3.10/site-packages (from pandas>=0.25->seaborn) (2023.4)\r\n",
      "Requirement already satisfied: six>=1.5 in /opt/conda/lib/python3.10/site-packages (from python-dateutil>=2.7->matplotlib!=3.6.1,>=3.1->seaborn) (1.16.0)\r\n",
      "Note: you may need to restart the kernel to use updated packages.\n"
     ]
    }
   ],
   "source": [
    "pip install seaborn"
   ]
  },
  {
   "cell_type": "code",
   "execution_count": 2,
   "id": "a92b4be1",
   "metadata": {
    "execution": {
     "iopub.execute_input": "2024-03-13T13:43:18.516521Z",
     "iopub.status.busy": "2024-03-13T13:43:18.516096Z",
     "iopub.status.idle": "2024-03-13T13:43:21.418259Z",
     "shell.execute_reply": "2024-03-13T13:43:21.416725Z"
    },
    "papermill": {
     "duration": 2.922453,
     "end_time": "2024-03-13T13:43:21.422001",
     "exception": false,
     "start_time": "2024-03-13T13:43:18.499548",
     "status": "completed"
    },
    "tags": []
   },
   "outputs": [],
   "source": [
    "import numpy as np \n",
    "import pandas as pd\n",
    "import matplotlib.pyplot as plt\n",
    "import seaborn as sns\n",
    "%matplotlib inline\n",
    "\n",
    "import os\n",
    "for dirname, _, filenames in os.walk('/kaggle/input-data'):\n",
    "    for filename in filenames:\n",
    "        print(os.path.join(dirname, filename))"
   ]
  },
  {
   "cell_type": "code",
   "execution_count": 3,
   "id": "a8233f08",
   "metadata": {
    "execution": {
     "iopub.execute_input": "2024-03-13T13:43:21.452124Z",
     "iopub.status.busy": "2024-03-13T13:43:21.451503Z",
     "iopub.status.idle": "2024-03-13T13:43:21.495854Z",
     "shell.execute_reply": "2024-03-13T13:43:21.494494Z"
    },
    "papermill": {
     "duration": 0.062503,
     "end_time": "2024-03-13T13:43:21.498739",
     "exception": false,
     "start_time": "2024-03-13T13:43:21.436236",
     "status": "completed"
    },
    "tags": []
   },
   "outputs": [
    {
     "data": {
      "text/html": [
       "<div>\n",
       "<style scoped>\n",
       "    .dataframe tbody tr th:only-of-type {\n",
       "        vertical-align: middle;\n",
       "    }\n",
       "\n",
       "    .dataframe tbody tr th {\n",
       "        vertical-align: top;\n",
       "    }\n",
       "\n",
       "    .dataframe thead th {\n",
       "        text-align: right;\n",
       "    }\n",
       "</style>\n",
       "<table border=\"1\" class=\"dataframe\">\n",
       "  <thead>\n",
       "    <tr style=\"text-align: right;\">\n",
       "      <th></th>\n",
       "      <th>Humidity</th>\n",
       "      <th>Temperature</th>\n",
       "      <th>Step_count</th>\n",
       "      <th>Stress_Level</th>\n",
       "    </tr>\n",
       "  </thead>\n",
       "  <tbody>\n",
       "    <tr>\n",
       "      <th>0</th>\n",
       "      <td>21.33</td>\n",
       "      <td>90.33</td>\n",
       "      <td>123</td>\n",
       "      <td>1</td>\n",
       "    </tr>\n",
       "    <tr>\n",
       "      <th>1</th>\n",
       "      <td>21.41</td>\n",
       "      <td>90.41</td>\n",
       "      <td>93</td>\n",
       "      <td>1</td>\n",
       "    </tr>\n",
       "    <tr>\n",
       "      <th>2</th>\n",
       "      <td>27.12</td>\n",
       "      <td>96.12</td>\n",
       "      <td>196</td>\n",
       "      <td>2</td>\n",
       "    </tr>\n",
       "    <tr>\n",
       "      <th>3</th>\n",
       "      <td>27.64</td>\n",
       "      <td>96.64</td>\n",
       "      <td>177</td>\n",
       "      <td>2</td>\n",
       "    </tr>\n",
       "    <tr>\n",
       "      <th>4</th>\n",
       "      <td>10.87</td>\n",
       "      <td>79.87</td>\n",
       "      <td>87</td>\n",
       "      <td>0</td>\n",
       "    </tr>\n",
       "  </tbody>\n",
       "</table>\n",
       "</div>"
      ],
      "text/plain": [
       "   Humidity  Temperature  Step_count  Stress_Level\n",
       "0     21.33        90.33         123             1\n",
       "1     21.41        90.41          93             1\n",
       "2     27.12        96.12         196             2\n",
       "3     27.64        96.64         177             2\n",
       "4     10.87        79.87          87             0"
      ]
     },
     "execution_count": 3,
     "metadata": {},
     "output_type": "execute_result"
    }
   ],
   "source": [
    "df=pd.read_csv('/kaggle/input/input-data/Stress-Lysis.csv')\n",
    "df.head(5)  # displays the first five rows of the dataframe"
   ]
  },
  {
   "cell_type": "markdown",
   "id": "541c1ece",
   "metadata": {
    "papermill": {
     "duration": 0.015182,
     "end_time": "2024-03-13T13:43:21.527742",
     "exception": false,
     "start_time": "2024-03-13T13:43:21.512560",
     "status": "completed"
    },
    "tags": []
   },
   "source": [
    "# Data Preprocessing "
   ]
  },
  {
   "cell_type": "code",
   "execution_count": 4,
   "id": "385a57c2",
   "metadata": {
    "execution": {
     "iopub.execute_input": "2024-03-13T13:43:21.558059Z",
     "iopub.status.busy": "2024-03-13T13:43:21.557624Z",
     "iopub.status.idle": "2024-03-13T13:43:21.588753Z",
     "shell.execute_reply": "2024-03-13T13:43:21.586907Z"
    },
    "papermill": {
     "duration": 0.04859,
     "end_time": "2024-03-13T13:43:21.591518",
     "exception": false,
     "start_time": "2024-03-13T13:43:21.542928",
     "status": "completed"
    },
    "tags": []
   },
   "outputs": [
    {
     "name": "stdout",
     "output_type": "stream",
     "text": [
      "<class 'pandas.core.frame.DataFrame'>\n",
      "RangeIndex: 2001 entries, 0 to 2000\n",
      "Data columns (total 4 columns):\n",
      " #   Column        Non-Null Count  Dtype  \n",
      "---  ------        --------------  -----  \n",
      " 0   Humidity      2001 non-null   float64\n",
      " 1   Temperature   2001 non-null   float64\n",
      " 2   Step_count    2001 non-null   int64  \n",
      " 3   Stress_Level  2001 non-null   int64  \n",
      "dtypes: float64(2), int64(2)\n",
      "memory usage: 62.7 KB\n"
     ]
    }
   ],
   "source": [
    "df.info()"
   ]
  },
  {
   "cell_type": "code",
   "execution_count": 5,
   "id": "24ea022a",
   "metadata": {
    "execution": {
     "iopub.execute_input": "2024-03-13T13:43:21.620387Z",
     "iopub.status.busy": "2024-03-13T13:43:21.619992Z",
     "iopub.status.idle": "2024-03-13T13:43:21.627216Z",
     "shell.execute_reply": "2024-03-13T13:43:21.626089Z"
    },
    "papermill": {
     "duration": 0.024956,
     "end_time": "2024-03-13T13:43:21.629805",
     "exception": false,
     "start_time": "2024-03-13T13:43:21.604849",
     "status": "completed"
    },
    "tags": []
   },
   "outputs": [
    {
     "data": {
      "text/plain": [
       "(2001, 4)"
      ]
     },
     "execution_count": 5,
     "metadata": {},
     "output_type": "execute_result"
    }
   ],
   "source": [
    "df.shape"
   ]
  },
  {
   "cell_type": "code",
   "execution_count": 6,
   "id": "0ca86dbb",
   "metadata": {
    "execution": {
     "iopub.execute_input": "2024-03-13T13:43:21.658363Z",
     "iopub.status.busy": "2024-03-13T13:43:21.657975Z",
     "iopub.status.idle": "2024-03-13T13:43:21.685222Z",
     "shell.execute_reply": "2024-03-13T13:43:21.684034Z"
    },
    "papermill": {
     "duration": 0.04446,
     "end_time": "2024-03-13T13:43:21.687565",
     "exception": false,
     "start_time": "2024-03-13T13:43:21.643105",
     "status": "completed"
    },
    "tags": []
   },
   "outputs": [
    {
     "data": {
      "text/html": [
       "<div>\n",
       "<style scoped>\n",
       "    .dataframe tbody tr th:only-of-type {\n",
       "        vertical-align: middle;\n",
       "    }\n",
       "\n",
       "    .dataframe tbody tr th {\n",
       "        vertical-align: top;\n",
       "    }\n",
       "\n",
       "    .dataframe thead th {\n",
       "        text-align: right;\n",
       "    }\n",
       "</style>\n",
       "<table border=\"1\" class=\"dataframe\">\n",
       "  <thead>\n",
       "    <tr style=\"text-align: right;\">\n",
       "      <th></th>\n",
       "      <th>Humidity</th>\n",
       "      <th>Temperature</th>\n",
       "      <th>Step_count</th>\n",
       "      <th>Stress_Level</th>\n",
       "    </tr>\n",
       "  </thead>\n",
       "  <tbody>\n",
       "    <tr>\n",
       "      <th>count</th>\n",
       "      <td>2001.000000</td>\n",
       "      <td>2001.000000</td>\n",
       "      <td>2001.000000</td>\n",
       "      <td>2001.000000</td>\n",
       "    </tr>\n",
       "    <tr>\n",
       "      <th>mean</th>\n",
       "      <td>20.000000</td>\n",
       "      <td>89.000000</td>\n",
       "      <td>100.141429</td>\n",
       "      <td>1.104448</td>\n",
       "    </tr>\n",
       "    <tr>\n",
       "      <th>std</th>\n",
       "      <td>5.777833</td>\n",
       "      <td>5.777833</td>\n",
       "      <td>58.182948</td>\n",
       "      <td>0.771094</td>\n",
       "    </tr>\n",
       "    <tr>\n",
       "      <th>min</th>\n",
       "      <td>10.000000</td>\n",
       "      <td>79.000000</td>\n",
       "      <td>0.000000</td>\n",
       "      <td>0.000000</td>\n",
       "    </tr>\n",
       "    <tr>\n",
       "      <th>25%</th>\n",
       "      <td>15.000000</td>\n",
       "      <td>84.000000</td>\n",
       "      <td>50.000000</td>\n",
       "      <td>0.000000</td>\n",
       "    </tr>\n",
       "    <tr>\n",
       "      <th>50%</th>\n",
       "      <td>20.000000</td>\n",
       "      <td>89.000000</td>\n",
       "      <td>101.000000</td>\n",
       "      <td>1.000000</td>\n",
       "    </tr>\n",
       "    <tr>\n",
       "      <th>75%</th>\n",
       "      <td>25.000000</td>\n",
       "      <td>94.000000</td>\n",
       "      <td>150.000000</td>\n",
       "      <td>2.000000</td>\n",
       "    </tr>\n",
       "    <tr>\n",
       "      <th>max</th>\n",
       "      <td>30.000000</td>\n",
       "      <td>99.000000</td>\n",
       "      <td>200.000000</td>\n",
       "      <td>2.000000</td>\n",
       "    </tr>\n",
       "  </tbody>\n",
       "</table>\n",
       "</div>"
      ],
      "text/plain": [
       "          Humidity  Temperature   Step_count  Stress_Level\n",
       "count  2001.000000  2001.000000  2001.000000   2001.000000\n",
       "mean     20.000000    89.000000   100.141429      1.104448\n",
       "std       5.777833     5.777833    58.182948      0.771094\n",
       "min      10.000000    79.000000     0.000000      0.000000\n",
       "25%      15.000000    84.000000    50.000000      0.000000\n",
       "50%      20.000000    89.000000   101.000000      1.000000\n",
       "75%      25.000000    94.000000   150.000000      2.000000\n",
       "max      30.000000    99.000000   200.000000      2.000000"
      ]
     },
     "execution_count": 6,
     "metadata": {},
     "output_type": "execute_result"
    }
   ],
   "source": [
    "df.describe()"
   ]
  },
  {
   "cell_type": "code",
   "execution_count": 7,
   "id": "669b4903",
   "metadata": {
    "execution": {
     "iopub.execute_input": "2024-03-13T13:43:21.720665Z",
     "iopub.status.busy": "2024-03-13T13:43:21.720220Z",
     "iopub.status.idle": "2024-03-13T13:43:21.729731Z",
     "shell.execute_reply": "2024-03-13T13:43:21.728806Z"
    },
    "papermill": {
     "duration": 0.03065,
     "end_time": "2024-03-13T13:43:21.731899",
     "exception": false,
     "start_time": "2024-03-13T13:43:21.701249",
     "status": "completed"
    },
    "tags": []
   },
   "outputs": [
    {
     "data": {
      "text/plain": [
       "False"
      ]
     },
     "execution_count": 7,
     "metadata": {},
     "output_type": "execute_result"
    }
   ],
   "source": [
    "df.duplicated().any()"
   ]
  },
  {
   "cell_type": "code",
   "execution_count": 8,
   "id": "92a671ef",
   "metadata": {
    "execution": {
     "iopub.execute_input": "2024-03-13T13:43:21.761728Z",
     "iopub.status.busy": "2024-03-13T13:43:21.761276Z",
     "iopub.status.idle": "2024-03-13T13:43:21.777173Z",
     "shell.execute_reply": "2024-03-13T13:43:21.775696Z"
    },
    "papermill": {
     "duration": 0.033661,
     "end_time": "2024-03-13T13:43:21.779787",
     "exception": false,
     "start_time": "2024-03-13T13:43:21.746126",
     "status": "completed"
    },
    "tags": []
   },
   "outputs": [
    {
     "data": {
      "text/html": [
       "<div>\n",
       "<style scoped>\n",
       "    .dataframe tbody tr th:only-of-type {\n",
       "        vertical-align: middle;\n",
       "    }\n",
       "\n",
       "    .dataframe tbody tr th {\n",
       "        vertical-align: top;\n",
       "    }\n",
       "\n",
       "    .dataframe thead th {\n",
       "        text-align: right;\n",
       "    }\n",
       "</style>\n",
       "<table border=\"1\" class=\"dataframe\">\n",
       "  <thead>\n",
       "    <tr style=\"text-align: right;\">\n",
       "      <th></th>\n",
       "      <th>Humidity</th>\n",
       "      <th>Temperature</th>\n",
       "      <th>Step_count</th>\n",
       "      <th>Stress_Level</th>\n",
       "    </tr>\n",
       "  </thead>\n",
       "  <tbody>\n",
       "    <tr>\n",
       "      <th>0</th>\n",
       "      <td>False</td>\n",
       "      <td>False</td>\n",
       "      <td>False</td>\n",
       "      <td>False</td>\n",
       "    </tr>\n",
       "    <tr>\n",
       "      <th>1</th>\n",
       "      <td>False</td>\n",
       "      <td>False</td>\n",
       "      <td>False</td>\n",
       "      <td>False</td>\n",
       "    </tr>\n",
       "    <tr>\n",
       "      <th>2</th>\n",
       "      <td>False</td>\n",
       "      <td>False</td>\n",
       "      <td>False</td>\n",
       "      <td>False</td>\n",
       "    </tr>\n",
       "    <tr>\n",
       "      <th>3</th>\n",
       "      <td>False</td>\n",
       "      <td>False</td>\n",
       "      <td>False</td>\n",
       "      <td>False</td>\n",
       "    </tr>\n",
       "    <tr>\n",
       "      <th>4</th>\n",
       "      <td>False</td>\n",
       "      <td>False</td>\n",
       "      <td>False</td>\n",
       "      <td>False</td>\n",
       "    </tr>\n",
       "    <tr>\n",
       "      <th>...</th>\n",
       "      <td>...</td>\n",
       "      <td>...</td>\n",
       "      <td>...</td>\n",
       "      <td>...</td>\n",
       "    </tr>\n",
       "    <tr>\n",
       "      <th>1996</th>\n",
       "      <td>False</td>\n",
       "      <td>False</td>\n",
       "      <td>False</td>\n",
       "      <td>False</td>\n",
       "    </tr>\n",
       "    <tr>\n",
       "      <th>1997</th>\n",
       "      <td>False</td>\n",
       "      <td>False</td>\n",
       "      <td>False</td>\n",
       "      <td>False</td>\n",
       "    </tr>\n",
       "    <tr>\n",
       "      <th>1998</th>\n",
       "      <td>False</td>\n",
       "      <td>False</td>\n",
       "      <td>False</td>\n",
       "      <td>False</td>\n",
       "    </tr>\n",
       "    <tr>\n",
       "      <th>1999</th>\n",
       "      <td>False</td>\n",
       "      <td>False</td>\n",
       "      <td>False</td>\n",
       "      <td>False</td>\n",
       "    </tr>\n",
       "    <tr>\n",
       "      <th>2000</th>\n",
       "      <td>False</td>\n",
       "      <td>False</td>\n",
       "      <td>False</td>\n",
       "      <td>False</td>\n",
       "    </tr>\n",
       "  </tbody>\n",
       "</table>\n",
       "<p>2001 rows × 4 columns</p>\n",
       "</div>"
      ],
      "text/plain": [
       "      Humidity  Temperature  Step_count  Stress_Level\n",
       "0        False        False       False         False\n",
       "1        False        False       False         False\n",
       "2        False        False       False         False\n",
       "3        False        False       False         False\n",
       "4        False        False       False         False\n",
       "...        ...          ...         ...           ...\n",
       "1996     False        False       False         False\n",
       "1997     False        False       False         False\n",
       "1998     False        False       False         False\n",
       "1999     False        False       False         False\n",
       "2000     False        False       False         False\n",
       "\n",
       "[2001 rows x 4 columns]"
      ]
     },
     "execution_count": 8,
     "metadata": {},
     "output_type": "execute_result"
    }
   ],
   "source": [
    "df.isnull()"
   ]
  },
  {
   "cell_type": "markdown",
   "id": "ecf02073",
   "metadata": {
    "papermill": {
     "duration": 0.01436,
     "end_time": "2024-03-13T13:43:21.808403",
     "exception": false,
     "start_time": "2024-03-13T13:43:21.794043",
     "status": "completed"
    },
    "tags": []
   },
   "source": [
    "**Analyze the numerical and categorical features, and convert categorical feature into numerical.**"
   ]
  },
  {
   "cell_type": "code",
   "execution_count": 9,
   "id": "28e969d7",
   "metadata": {
    "execution": {
     "iopub.execute_input": "2024-03-13T13:43:21.841333Z",
     "iopub.status.busy": "2024-03-13T13:43:21.840849Z",
     "iopub.status.idle": "2024-03-13T13:43:21.850354Z",
     "shell.execute_reply": "2024-03-13T13:43:21.848963Z"
    },
    "papermill": {
     "duration": 0.028788,
     "end_time": "2024-03-13T13:43:21.852845",
     "exception": false,
     "start_time": "2024-03-13T13:43:21.824057",
     "status": "completed"
    },
    "tags": []
   },
   "outputs": [
    {
     "data": {
      "text/plain": [
       "array([1, 2, 0])"
      ]
     },
     "execution_count": 9,
     "metadata": {},
     "output_type": "execute_result"
    }
   ],
   "source": [
    "df['Stress_Level'].unique()\n"
   ]
  },
  {
   "cell_type": "markdown",
   "id": "3c726a89",
   "metadata": {
    "papermill": {
     "duration": 0.013925,
     "end_time": "2024-03-13T13:43:21.881055",
     "exception": false,
     "start_time": "2024-03-13T13:43:21.867130",
     "status": "completed"
    },
    "tags": []
   },
   "source": [
    "# EDA "
   ]
  },
  {
   "cell_type": "code",
   "execution_count": 10,
   "id": "8a439627",
   "metadata": {
    "execution": {
     "iopub.execute_input": "2024-03-13T13:43:21.911566Z",
     "iopub.status.busy": "2024-03-13T13:43:21.911097Z",
     "iopub.status.idle": "2024-03-13T13:43:22.521162Z",
     "shell.execute_reply": "2024-03-13T13:43:22.519756Z"
    },
    "papermill": {
     "duration": 0.628719,
     "end_time": "2024-03-13T13:43:22.524000",
     "exception": false,
     "start_time": "2024-03-13T13:43:21.895281",
     "status": "completed"
    },
    "tags": []
   },
   "outputs": [
    {
     "data": {
      "image/png": "[encoded data removed]",
      "text/plain": [
       "<Figure size 1000x600 with 1 Axes>"
      ]
     },
     "metadata": {},
     "output_type": "display_data"
    }
   ],
   "source": [
    "import seaborn as sns\n",
    "import matplotlib.pyplot as plt\n",
    "\n",
    "# Assuming 'data' is your dataset\n",
    "\n",
    "# Calculate skewness\n",
    "skewness = df.skew()\n",
    "\n",
    "# Plotting\n",
    "plt.figure(figsize=(10, 6))\n",
    "\n",
    "# Boxplot\n",
    "sns.boxplot(data=df)\n",
    "plt.title('Boxplot with Skewness')\n",
    "\n",
    "# Annotate skewness on the boxplot\n",
    "for i, col in enumerate(df.columns):\n",
    "    plt.text(i, skewness.iloc[i], f\"Skewness: {skewness[col]:.2f}\", ha='center', va='bottom', fontsize=8, color='red')\n",
    "\n",
    "plt.xticks(rotation=45)  # Rotate x-axis labels for better readability\n",
    "\n",
    "plt.tight_layout()\n",
    "plt.show()\n"
   ]
  },
  {
   "cell_type": "markdown",
   "id": "a90baadc",
   "metadata": {
    "papermill": {
     "duration": 0.014996,
     "end_time": "2024-03-13T13:43:22.554797",
     "exception": false,
     "start_time": "2024-03-13T13:43:22.539801",
     "status": "completed"
    },
    "tags": []
   },
   "source": [
    "**Skewness Reduction after Log Transformation**"
   ]
  },
  {
   "cell_type": "code",
   "execution_count": 11,
   "id": "a2bb8827",
   "metadata": {
    "execution": {
     "iopub.execute_input": "2024-03-13T13:43:22.587157Z",
     "iopub.status.busy": "2024-03-13T13:43:22.586763Z",
     "iopub.status.idle": "2024-03-13T13:43:22.958995Z",
     "shell.execute_reply": "2024-03-13T13:43:22.958122Z"
    },
    "papermill": {
     "duration": 0.391077,
     "end_time": "2024-03-13T13:43:22.961310",
     "exception": false,
     "start_time": "2024-03-13T13:43:22.570233",
     "status": "completed"
    },
    "tags": []
   },
   "outputs": [
    {
     "data": {
      "image/png": "[encoded data removed]",
      "text/plain": [
       "<Figure size 1000x600 with 1 Axes>"
      ]
     },
     "metadata": {},
     "output_type": "display_data"
    }
   ],
   "source": [
    "import numpy as np\n",
    "\n",
    "# Calculate skewness before transformation\n",
    "skewness_before = df.skew()\n",
    "\n",
    "# Apply logarithm transformation to reduce skewness\n",
    "df_log = np.log(df + 1)  # Adding 1 to handle zero values\n",
    "skewness_after = df_log.skew()\n",
    "\n",
    "# Plotting\n",
    "plt.figure(figsize=(10, 6))\n",
    "\n",
    "# Plot skewness reduction\n",
    "skewness_reduction = skewness_before - skewness_after\n",
    "plt.bar(df.columns, skewness_reduction)\n",
    "plt.title('Skewness Reduction after Log Transformation')\n",
    "plt.xlabel('Parameters')\n",
    "plt.ylabel('Skewness Reduction')\n",
    "\n",
    "plt.xticks(rotation=45)  # Rotate x-axis labels for better readability\n",
    "\n",
    "plt.tight_layout()\n",
    "plt.show()\n"
   ]
  },
  {
   "cell_type": "markdown",
   "id": "0f87c428",
   "metadata": {
    "papermill": {
     "duration": 0.015061,
     "end_time": "2024-03-13T13:43:22.992617",
     "exception": false,
     "start_time": "2024-03-13T13:43:22.977556",
     "status": "completed"
    },
    "tags": []
   },
   "source": [
    "**correlation**"
   ]
  },
  {
   "cell_type": "code",
   "execution_count": 12,
   "id": "df624532",
   "metadata": {
    "execution": {
     "iopub.execute_input": "2024-03-13T13:43:23.026432Z",
     "iopub.status.busy": "2024-03-13T13:43:23.025078Z",
     "iopub.status.idle": "2024-03-13T13:43:23.040470Z",
     "shell.execute_reply": "2024-03-13T13:43:23.039576Z"
    },
    "papermill": {
     "duration": 0.03494,
     "end_time": "2024-03-13T13:43:23.043120",
     "exception": false,
     "start_time": "2024-03-13T13:43:23.008180",
     "status": "completed"
    },
    "tags": []
   },
   "outputs": [
    {
     "data": {
      "text/html": [
       "<div>\n",
       "<style scoped>\n",
       "    .dataframe tbody tr th:only-of-type {\n",
       "        vertical-align: middle;\n",
       "    }\n",
       "\n",
       "    .dataframe tbody tr th {\n",
       "        vertical-align: top;\n",
       "    }\n",
       "\n",
       "    .dataframe thead th {\n",
       "        text-align: right;\n",
       "    }\n",
       "</style>\n",
       "<table border=\"1\" class=\"dataframe\">\n",
       "  <thead>\n",
       "    <tr style=\"text-align: right;\">\n",
       "      <th></th>\n",
       "      <th>Humidity</th>\n",
       "      <th>Temperature</th>\n",
       "      <th>Step_count</th>\n",
       "      <th>Stress_Level</th>\n",
       "    </tr>\n",
       "  </thead>\n",
       "  <tbody>\n",
       "    <tr>\n",
       "      <th>Humidity</th>\n",
       "      <td>1.000000</td>\n",
       "      <td>1.000000</td>\n",
       "      <td>0.870486</td>\n",
       "      <td>0.936036</td>\n",
       "    </tr>\n",
       "    <tr>\n",
       "      <th>Temperature</th>\n",
       "      <td>1.000000</td>\n",
       "      <td>1.000000</td>\n",
       "      <td>0.870486</td>\n",
       "      <td>0.936036</td>\n",
       "    </tr>\n",
       "    <tr>\n",
       "      <th>Step_count</th>\n",
       "      <td>0.870486</td>\n",
       "      <td>0.870486</td>\n",
       "      <td>1.000000</td>\n",
       "      <td>0.832623</td>\n",
       "    </tr>\n",
       "    <tr>\n",
       "      <th>Stress_Level</th>\n",
       "      <td>0.936036</td>\n",
       "      <td>0.936036</td>\n",
       "      <td>0.832623</td>\n",
       "      <td>1.000000</td>\n",
       "    </tr>\n",
       "  </tbody>\n",
       "</table>\n",
       "</div>"
      ],
      "text/plain": [
       "              Humidity  Temperature  Step_count  Stress_Level\n",
       "Humidity      1.000000     1.000000    0.870486      0.936036\n",
       "Temperature   1.000000     1.000000    0.870486      0.936036\n",
       "Step_count    0.870486     0.870486    1.000000      0.832623\n",
       "Stress_Level  0.936036     0.936036    0.832623      1.000000"
      ]
     },
     "execution_count": 12,
     "metadata": {},
     "output_type": "execute_result"
    }
   ],
   "source": [
    "correlation = df.corr()\n",
    "correlation"
   ]
  },
  {
   "cell_type": "code",
   "execution_count": 13,
   "id": "1581da0d",
   "metadata": {
    "execution": {
     "iopub.execute_input": "2024-03-13T13:43:23.077721Z",
     "iopub.status.busy": "2024-03-13T13:43:23.076349Z",
     "iopub.status.idle": "2024-03-13T13:43:23.493296Z",
     "shell.execute_reply": "2024-03-13T13:43:23.491491Z"
    },
    "papermill": {
     "duration": 0.437011,
     "end_time": "2024-03-13T13:43:23.496103",
     "exception": false,
     "start_time": "2024-03-13T13:43:23.059092",
     "status": "completed"
    },
    "tags": []
   },
   "outputs": [
    {
     "data": {
      "image/png": "[encoded data removed]",
      "text/plain": [
       "<Figure size 1000x800 with 2 Axes>"
      ]
     },
     "metadata": {},
     "output_type": "display_data"
    }
   ],
   "source": [
    "import seaborn as sns\n",
    "\n",
    "# Calculate correlation matrix\n",
    "correlation = df.corr()\n",
    "\n",
    "# Plot correlation matrix as a heatmap\n",
    "plt.figure(figsize=(10, 8))\n",
    "sns.heatmap(correlation, annot=True, cmap='coolwarm', fmt=\".2f\")\n",
    "plt.title('Correlation Matrix')\n",
    "plt.xticks(rotation=45)  # Rotate x-axis labels for better readability\n",
    "plt.yticks(rotation=0)   # Rotate y-axis labels for better readability\n",
    "plt.tight_layout()\n",
    "plt.show()\n"
   ]
  },
  {
   "cell_type": "markdown",
   "id": "a40c7580",
   "metadata": {
    "papermill": {
     "duration": 0.018138,
     "end_time": "2024-03-13T13:43:23.531284",
     "exception": false,
     "start_time": "2024-03-13T13:43:23.513146",
     "status": "completed"
    },
    "tags": []
   },
   "source": [
    "**Clustered Correlation Matrix**"
   ]
  },
  {
   "cell_type": "code",
   "execution_count": 14,
   "id": "219dd8ac",
   "metadata": {
    "execution": {
     "iopub.execute_input": "2024-03-13T13:43:23.568101Z",
     "iopub.status.busy": "2024-03-13T13:43:23.567687Z",
     "iopub.status.idle": "2024-03-13T13:43:24.186538Z",
     "shell.execute_reply": "2024-03-13T13:43:24.185199Z"
    },
    "papermill": {
     "duration": 0.64061,
     "end_time": "2024-03-13T13:43:24.189158",
     "exception": false,
     "start_time": "2024-03-13T13:43:23.548548",
     "status": "completed"
    },
    "tags": []
   },
   "outputs": [
    {
     "data": {
      "text/plain": [
       "<Figure size 1000x800 with 0 Axes>"
      ]
     },
     "metadata": {},
     "output_type": "display_data"
    },
    {
     "data": {
      "image/png": "[encoded data removed]",
      "text/plain": [
       "<Figure size 1000x1000 with 4 Axes>"
      ]
     },
     "metadata": {},
     "output_type": "display_data"
    }
   ],
   "source": [
    "import seaborn as sns\n",
    "import matplotlib.pyplot as plt\n",
    "\n",
    "# Calculate correlation matrix\n",
    "correlation = df.corr()\n",
    "\n",
    "# Plot clustered heatmap\n",
    "plt.figure(figsize=(10, 8))\n",
    "sns.clustermap(correlation, cmap='coolwarm', annot=True, fmt=\".2f\", linewidths=.5)\n",
    "plt.title('Clustered Correlation Matrix')\n",
    "plt.tight_layout()\n",
    "plt.show()\n"
   ]
  },
  {
   "cell_type": "markdown",
   "id": "e9f09768",
   "metadata": {
    "papermill": {
     "duration": 0.018127,
     "end_time": "2024-03-13T13:43:24.225182",
     "exception": false,
     "start_time": "2024-03-13T13:43:24.207055",
     "status": "completed"
    },
    "tags": []
   },
   "source": [
    "# Data Modeling"
   ]
  },
  {
   "cell_type": "code",
   "execution_count": 15,
   "id": "302b8b99",
   "metadata": {
    "execution": {
     "iopub.execute_input": "2024-03-13T13:43:24.263672Z",
     "iopub.status.busy": "2024-03-13T13:43:24.263245Z",
     "iopub.status.idle": "2024-03-13T13:43:24.596474Z",
     "shell.execute_reply": "2024-03-13T13:43:24.595120Z"
    },
    "papermill": {
     "duration": 0.35559,
     "end_time": "2024-03-13T13:43:24.599421",
     "exception": false,
     "start_time": "2024-03-13T13:43:24.243831",
     "status": "completed"
    },
    "tags": []
   },
   "outputs": [],
   "source": [
    "from sklearn.model_selection import train_test_split\n",
    "X=df.drop(['Stress_Level'],axis=1)\n",
    "y=df['Stress_Level']\n",
    "X_train,X_test,y_train,y_test = train_test_split(X,y,test_size=0.2,random_state=2)"
   ]
  },
  {
   "cell_type": "markdown",
   "id": "9e1b1878",
   "metadata": {
    "papermill": {
     "duration": 0.017729,
     "end_time": "2024-03-13T13:43:24.634902",
     "exception": false,
     "start_time": "2024-03-13T13:43:24.617173",
     "status": "completed"
    },
    "tags": []
   },
   "source": [
    "**Initialize the Linear Regression model**"
   ]
  },
  {
   "cell_type": "code",
   "execution_count": 16,
   "id": "e2b3786c",
   "metadata": {
    "execution": {
     "iopub.execute_input": "2024-03-13T13:43:24.672879Z",
     "iopub.status.busy": "2024-03-13T13:43:24.672432Z",
     "iopub.status.idle": "2024-03-13T13:43:24.795616Z",
     "shell.execute_reply": "2024-03-13T13:43:24.793946Z"
    },
    "papermill": {
     "duration": 0.145457,
     "end_time": "2024-03-13T13:43:24.798576",
     "exception": false,
     "start_time": "2024-03-13T13:43:24.653119",
     "status": "completed"
    },
    "tags": []
   },
   "outputs": [],
   "source": [
    "from sklearn.linear_model import LinearRegression\n",
    "from sklearn.metrics import mean_squared_error\n",
    "model = LinearRegression()\n"
   ]
  },
  {
   "cell_type": "markdown",
   "id": "5b14562f",
   "metadata": {
    "papermill": {
     "duration": 0.018422,
     "end_time": "2024-03-13T13:43:24.834814",
     "exception": false,
     "start_time": "2024-03-13T13:43:24.816392",
     "status": "completed"
    },
    "tags": []
   },
   "source": [
    "**Train the model on the training data**"
   ]
  },
  {
   "cell_type": "code",
   "execution_count": 17,
   "id": "43d89bda",
   "metadata": {
    "execution": {
     "iopub.execute_input": "2024-03-13T13:43:24.873521Z",
     "iopub.status.busy": "2024-03-13T13:43:24.873106Z",
     "iopub.status.idle": "2024-03-13T13:43:24.911947Z",
     "shell.execute_reply": "2024-03-13T13:43:24.910530Z"
    },
    "papermill": {
     "duration": 0.061821,
     "end_time": "2024-03-13T13:43:24.914963",
     "exception": false,
     "start_time": "2024-03-13T13:43:24.853142",
     "status": "completed"
    },
    "tags": []
   },
   "outputs": [
    {
     "data": {
      "text/html": [
       "<style>#sk-container-id-1 {color: black;background-color: white;}#sk-container-id-1 pre{padding: 0;}#sk-container-id-1 div.sk-toggleable {background-color: white;}#sk-container-id-1 label.sk-toggleable__label {cursor: pointer;display: block;width: 100%;margin-bottom: 0;padding: 0.3em;box-sizing: border-box;text-align: center;}#sk-container-id-1 label.sk-toggleable__label-arrow:before {content: \"▸\";float: left;margin-right: 0.25em;color: #696969;}#sk-container-id-1 label.sk-toggleable__label-arrow:hover:before {color: black;}#sk-container-id-1 div.sk-estimator:hover label.sk-toggleable__label-arrow:before {color: black;}#sk-container-id-1 div.sk-toggleable__content {max-height: 0;max-width: 0;overflow: hidden;text-align: left;background-color: #f0f8ff;}#sk-container-id-1 div.sk-toggleable__content pre {margin: 0.2em;color: black;border-radius: 0.25em;background-color: #f0f8ff;}#sk-container-id-1 input.sk-toggleable__control:checked~div.sk-toggleable__content {max-height: 200px;max-width: 100%;overflow: auto;}#sk-container-id-1 input.sk-toggleable__control:checked~label.sk-toggleable__label-arrow:before {content: \"▾\";}#sk-container-id-1 div.sk-estimator input.sk-toggleable__control:checked~label.sk-toggleable__label {background-color: #d4ebff;}#sk-container-id-1 div.sk-label input.sk-toggleable__control:checked~label.sk-toggleable__label {background-color: #d4ebff;}#sk-container-id-1 input.sk-hidden--visually {border: 0;clip: rect(1px 1px 1px 1px);clip: rect(1px, 1px, 1px, 1px);height: 1px;margin: -1px;overflow: hidden;padding: 0;position: absolute;width: 1px;}#sk-container-id-1 div.sk-estimator {font-family: monospace;background-color: #f0f8ff;border: 1px dotted black;border-radius: 0.25em;box-sizing: border-box;margin-bottom: 0.5em;}#sk-container-id-1 div.sk-estimator:hover {background-color: #d4ebff;}#sk-container-id-1 div.sk-parallel-item::after {content: \"\";width: 100%;border-bottom: 1px solid gray;flex-grow: 1;}#sk-container-id-1 div.sk-label:hover label.sk-toggleable__label {background-color: #d4ebff;}#sk-container-id-1 div.sk-serial::before {content: \"\";position: absolute;border-left: 1px solid gray;box-sizing: border-box;top: 0;bottom: 0;left: 50%;z-index: 0;}#sk-container-id-1 div.sk-serial {display: flex;flex-direction: column;align-items: center;background-color: white;padding-right: 0.2em;padding-left: 0.2em;position: relative;}#sk-container-id-1 div.sk-item {position: relative;z-index: 1;}#sk-container-id-1 div.sk-parallel {display: flex;align-items: stretch;justify-content: center;background-color: white;position: relative;}#sk-container-id-1 div.sk-item::before, #sk-container-id-1 div.sk-parallel-item::before {content: \"\";position: absolute;border-left: 1px solid gray;box-sizing: border-box;top: 0;bottom: 0;left: 50%;z-index: -1;}#sk-container-id-1 div.sk-parallel-item {display: flex;flex-direction: column;z-index: 1;position: relative;background-color: white;}#sk-container-id-1 div.sk-parallel-item:first-child::after {align-self: flex-end;width: 50%;}#sk-container-id-1 div.sk-parallel-item:last-child::after {align-self: flex-start;width: 50%;}#sk-container-id-1 div.sk-parallel-item:only-child::after {width: 0;}#sk-container-id-1 div.sk-dashed-wrapped {border: 1px dashed gray;margin: 0 0.4em 0.5em 0.4em;box-sizing: border-box;padding-bottom: 0.4em;background-color: white;}#sk-container-id-1 div.sk-label label {font-family: monospace;font-weight: bold;display: inline-block;line-height: 1.2em;}#sk-container-id-1 div.sk-label-container {text-align: center;}#sk-container-id-1 div.sk-container {/* jupyter's `normalize.less` sets `[hidden] { display: none; }` but bootstrap.min.css set `[hidden] { display: none !important; }` so we also need the `!important` here to be able to override the default hidden behavior on the sphinx rendered scikit-learn.org. See: https://github.com/scikit-learn/scikit-learn/issues/21755 */display: inline-block !important;position: relative;}#sk-container-id-1 div.sk-text-repr-fallback {display: none;}</style><div id=\"sk-container-id-1\" class=\"sk-top-container\"><div class=\"sk-text-repr-fallback\"><pre>LinearRegression()</pre><b>In a Jupyter environment, please rerun this cell to show the HTML representation or trust the notebook. <br />On GitHub, the HTML representation is unable to render, please try loading this page with nbviewer.org.</b></div><div class=\"sk-container\" hidden><div class=\"sk-item\"><div class=\"sk-estimator sk-toggleable\"><input class=\"sk-toggleable__control sk-hidden--visually\" id=\"sk-estimator-id-1\" type=\"checkbox\" checked><label for=\"sk-estimator-id-1\" class=\"sk-toggleable__label sk-toggleable__label-arrow\">LinearRegression</label><div class=\"sk-toggleable__content\"><pre>LinearRegression()</pre></div></div></div></div></div>"
      ],
      "text/plain": [
       "LinearRegression()"
      ]
     },
     "execution_count": 17,
     "metadata": {},
     "output_type": "execute_result"
    }
   ],
   "source": [
    "model.fit(X_train, y_train)"
   ]
  },
  {
   "cell_type": "markdown",
   "id": "834658c7",
   "metadata": {
    "papermill": {
     "duration": 0.017863,
     "end_time": "2024-03-13T13:43:24.951083",
     "exception": false,
     "start_time": "2024-03-13T13:43:24.933220",
     "status": "completed"
    },
    "tags": []
   },
   "source": [
    "**Predict the stress levels for the test data**"
   ]
  },
  {
   "cell_type": "code",
   "execution_count": 18,
   "id": "4d362982",
   "metadata": {
    "execution": {
     "iopub.execute_input": "2024-03-13T13:43:24.989106Z",
     "iopub.status.busy": "2024-03-13T13:43:24.988716Z",
     "iopub.status.idle": "2024-03-13T13:43:24.995274Z",
     "shell.execute_reply": "2024-03-13T13:43:24.994071Z"
    },
    "papermill": {
     "duration": 0.028266,
     "end_time": "2024-03-13T13:43:24.997573",
     "exception": false,
     "start_time": "2024-03-13T13:43:24.969307",
     "status": "completed"
    },
    "tags": []
   },
   "outputs": [],
   "source": [
    "y_pred = model.predict(X_test)"
   ]
  },
  {
   "cell_type": "markdown",
   "id": "2fa9962b",
   "metadata": {
    "papermill": {
     "duration": 0.019257,
     "end_time": "2024-03-13T13:43:25.035083",
     "exception": false,
     "start_time": "2024-03-13T13:43:25.015826",
     "status": "completed"
    },
    "tags": []
   },
   "source": [
    "**Calculate Mean Squared Error (MSE) to evaluate the model's performance**"
   ]
  },
  {
   "cell_type": "code",
   "execution_count": 19,
   "id": "bfb7c8d2",
   "metadata": {
    "execution": {
     "iopub.execute_input": "2024-03-13T13:43:25.139538Z",
     "iopub.status.busy": "2024-03-13T13:43:25.139134Z",
     "iopub.status.idle": "2024-03-13T13:43:25.146026Z",
     "shell.execute_reply": "2024-03-13T13:43:25.144586Z"
    },
    "papermill": {
     "duration": 0.095615,
     "end_time": "2024-03-13T13:43:25.149055",
     "exception": false,
     "start_time": "2024-03-13T13:43:25.053440",
     "status": "completed"
    },
    "tags": []
   },
   "outputs": [
    {
     "name": "stdout",
     "output_type": "stream",
     "text": [
      "Mean Squared Error: 0.07745316699470978\n"
     ]
    }
   ],
   "source": [
    "mse = mean_squared_error(y_test, y_pred)\n",
    "print(\"Mean Squared Error:\", mse)"
   ]
  },
  {
   "cell_type": "markdown",
   "id": "310cf00d",
   "metadata": {
    "papermill": {
     "duration": 0.020231,
     "end_time": "2024-03-13T13:43:25.187367",
     "exception": false,
     "start_time": "2024-03-13T13:43:25.167136",
     "status": "completed"
    },
    "tags": []
   },
   "source": [
    "**Improving the accuracy using more advanced machine learning algorithms or techniques that may better capture the underlying patterns in your data**"
   ]
  },
  {
   "cell_type": "markdown",
   "id": "e71fec82",
   "metadata": {
    "papermill": {
     "duration": 0.018747,
     "end_time": "2024-03-13T13:43:25.224977",
     "exception": false,
     "start_time": "2024-03-13T13:43:25.206230",
     "status": "completed"
    },
    "tags": []
   },
   "source": [
    "**Initialize the Support Vector Classifier**"
   ]
  },
  {
   "cell_type": "code",
   "execution_count": 20,
   "id": "446d1e52",
   "metadata": {
    "execution": {
     "iopub.execute_input": "2024-03-13T13:43:25.264705Z",
     "iopub.status.busy": "2024-03-13T13:43:25.264101Z",
     "iopub.status.idle": "2024-03-13T13:43:25.292173Z",
     "shell.execute_reply": "2024-03-13T13:43:25.290561Z"
    },
    "papermill": {
     "duration": 0.051206,
     "end_time": "2024-03-13T13:43:25.294742",
     "exception": false,
     "start_time": "2024-03-13T13:43:25.243536",
     "status": "completed"
    },
    "tags": []
   },
   "outputs": [
    {
     "name": "stdout",
     "output_type": "stream",
     "text": [
      "Accuracy: 0.9975062344139651\n"
     ]
    }
   ],
   "source": [
    "from sklearn.preprocessing import StandardScaler\n",
    "from sklearn.svm import SVC\n",
    "from sklearn.metrics import accuracy_score\n",
    "\n",
    "# Create an instance of StandardScaler\n",
    "scaler = StandardScaler()\n",
    "\n",
    "# Standardize features by removing the mean and scaling to unit variance\n",
    "X_train_scaled = scaler.fit_transform(X_train)\n",
    "X_test_scaled = scaler.transform(X_test)\n",
    "\n",
    "# Initialize the Support Vector Classifier (SVC) model with a linear kernel\n",
    "classifier = SVC(kernel='linear', random_state=0)\n",
    "\n",
    "# Train the SVC model\n",
    "classifier.fit(X_train_scaled, y_train)\n",
    "\n",
    "# Make predictions on the test set\n",
    "y_pred = classifier.predict(X_test_scaled)\n",
    "\n",
    "# Calculate accuracy score\n",
    "score = accuracy_score(y_test, y_pred)\n",
    "print(\"Accuracy:\", score)\n"
   ]
  },
  {
   "cell_type": "markdown",
   "id": "fdae8601",
   "metadata": {
    "papermill": {
     "duration": 0.019369,
     "end_time": "2024-03-13T13:43:25.333077",
     "exception": false,
     "start_time": "2024-03-13T13:43:25.313708",
     "status": "completed"
    },
    "tags": []
   },
   "source": [
    "**Initialize the RandomForestClassifier model**"
   ]
  },
  {
   "cell_type": "code",
   "execution_count": 21,
   "id": "6ebd208e",
   "metadata": {
    "execution": {
     "iopub.execute_input": "2024-03-13T13:43:25.372849Z",
     "iopub.status.busy": "2024-03-13T13:43:25.372436Z",
     "iopub.status.idle": "2024-03-13T13:43:25.902980Z",
     "shell.execute_reply": "2024-03-13T13:43:25.900547Z"
    },
    "papermill": {
     "duration": 0.554282,
     "end_time": "2024-03-13T13:43:25.905940",
     "exception": false,
     "start_time": "2024-03-13T13:43:25.351658",
     "status": "completed"
    },
    "tags": []
   },
   "outputs": [
    {
     "name": "stdout",
     "output_type": "stream",
     "text": [
      "Confusion Matrix:\n",
      "[[ 83   0   0]\n",
      " [  0 166   0]\n",
      " [  0   0 152]]\n"
     ]
    }
   ],
   "source": [
    "from sklearn.ensemble import RandomForestClassifier\n",
    "from sklearn.metrics import confusion_matrix\n",
    "\n",
    "# Initialize the RandomForestClassifier model\n",
    "model = RandomForestClassifier(n_estimators=100, max_depth=3, random_state=0)\n",
    "\n",
    "# Train the model on the entire dataset\n",
    "model.fit(X, y)\n",
    "\n",
    "# Predict stress levels for the test data\n",
    "prediction = model.predict(X_test)\n",
    "\n",
    "# Calculate confusion matrix\n",
    "confusion_matrix = confusion_matrix(y_test, prediction)\n",
    "print(\"Confusion Matrix:\")\n",
    "print(confusion_matrix)\n"
   ]
  },
  {
   "cell_type": "code",
   "execution_count": 22,
   "id": "3301edcc",
   "metadata": {
    "execution": {
     "iopub.execute_input": "2024-03-13T13:43:25.945926Z",
     "iopub.status.busy": "2024-03-13T13:43:25.945465Z",
     "iopub.status.idle": "2024-03-13T13:43:25.952962Z",
     "shell.execute_reply": "2024-03-13T13:43:25.951564Z"
    },
    "papermill": {
     "duration": 0.031873,
     "end_time": "2024-03-13T13:43:25.956232",
     "exception": false,
     "start_time": "2024-03-13T13:43:25.924359",
     "status": "completed"
    },
    "tags": []
   },
   "outputs": [
    {
     "name": "stdout",
     "output_type": "stream",
     "text": [
      "Accuracy: 1.0\n"
     ]
    }
   ],
   "source": [
    "from sklearn.metrics import accuracy_score\n",
    "\n",
    "# Calculate accuracy\n",
    "accuracy = accuracy_score(y_test, prediction)\n",
    "print(\"Accuracy:\", accuracy)\n"
   ]
  },
  {
   "cell_type": "markdown",
   "id": "b641cb7e",
   "metadata": {
    "papermill": {
     "duration": 0.018017,
     "end_time": "2024-03-13T13:43:25.994046",
     "exception": false,
     "start_time": "2024-03-13T13:43:25.976029",
     "status": "completed"
    },
    "tags": []
   },
   "source": [
    "# Classification Report"
   ]
  },
  {
   "cell_type": "code",
   "execution_count": 23,
   "id": "1797045c",
   "metadata": {
    "execution": {
     "iopub.execute_input": "2024-03-13T13:43:26.032711Z",
     "iopub.status.busy": "2024-03-13T13:43:26.032236Z",
     "iopub.status.idle": "2024-03-13T13:43:26.060738Z",
     "shell.execute_reply": "2024-03-13T13:43:26.058857Z"
    },
    "papermill": {
     "duration": 0.05197,
     "end_time": "2024-03-13T13:43:26.064223",
     "exception": false,
     "start_time": "2024-03-13T13:43:26.012253",
     "status": "completed"
    },
    "tags": []
   },
   "outputs": [
    {
     "name": "stdout",
     "output_type": "stream",
     "text": [
      "Classification Report (Random Forest Classifier):\n",
      "              precision    recall  f1-score   support\n",
      "\n",
      "           0       1.00      1.00      1.00        83\n",
      "           1       1.00      1.00      1.00       166\n",
      "           2       1.00      1.00      1.00       152\n",
      "\n",
      "    accuracy                           1.00       401\n",
      "   macro avg       1.00      1.00      1.00       401\n",
      "weighted avg       1.00      1.00      1.00       401\n",
      "\n",
      "Classification Report (SVC with Linear Kernel):\n",
      "              precision    recall  f1-score   support\n",
      "\n",
      "           0       1.00      1.00      1.00        83\n",
      "           1       0.99      1.00      1.00       166\n",
      "           2       1.00      0.99      1.00       152\n",
      "\n",
      "    accuracy                           1.00       401\n",
      "   macro avg       1.00      1.00      1.00       401\n",
      "weighted avg       1.00      1.00      1.00       401\n",
      "\n"
     ]
    }
   ],
   "source": [
    "from sklearn.metrics import classification_report\n",
    "\n",
    "# Random Forest Classifier\n",
    "print(\"Classification Report (Random Forest Classifier):\")\n",
    "print(classification_report(y_test, prediction))  # Corrected from prediction_rf to prediction\n",
    "\n",
    "# Support Vector Classifier (SVC) with Linear Kernel\n",
    "# Make predictions on the test set using SVC\n",
    "y_pred_svc = classifier.predict(X_test_scaled)\n",
    "\n",
    "# Print classification report for SVC\n",
    "print(\"Classification Report (SVC with Linear Kernel):\")\n",
    "print(classification_report(y_test, y_pred_svc))\n",
    "\n",
    "# Note: Since Linear Regression is a regression model, it doesn't have a classification report.\n"
   ]
  },
  {
   "cell_type": "markdown",
   "id": "6209275c",
   "metadata": {
    "papermill": {
     "duration": 0.019171,
     "end_time": "2024-03-13T13:43:26.103637",
     "exception": false,
     "start_time": "2024-03-13T13:43:26.084466",
     "status": "completed"
    },
    "tags": []
   },
   "source": [
    "* The classification reports showcase the exceptional performance of two machine learning models, the Random Forest Classifier and the Support Vector Classifier (SVC) with a Linear Kernel, in predicting stress levels.\n",
    "\n",
    "* Both models achieved a remarkable accuracy of 1.00, indicating precise classification across all classes. Additionally, high precision, recall, and F1-scores for each class further underscore the models' effectiveness in accurately identifying stress levels."
   ]
  },
  {
   "cell_type": "markdown",
   "id": "6f43194c",
   "metadata": {
    "papermill": {
     "duration": 0.018726,
     "end_time": "2024-03-13T13:43:26.142736",
     "exception": false,
     "start_time": "2024-03-13T13:43:26.124010",
     "status": "completed"
    },
    "tags": []
   },
   "source": [
    "#  Accuracy scores or Mean Squared Errors of the three models"
   ]
  },
  {
   "cell_type": "code",
   "execution_count": 24,
   "id": "4cfef30c",
   "metadata": {
    "execution": {
     "iopub.execute_input": "2024-03-13T13:43:26.183415Z",
     "iopub.status.busy": "2024-03-13T13:43:26.182392Z",
     "iopub.status.idle": "2024-03-13T13:43:26.444795Z",
     "shell.execute_reply": "2024-03-13T13:43:26.443181Z"
    },
    "papermill": {
     "duration": 0.285478,
     "end_time": "2024-03-13T13:43:26.447790",
     "exception": false,
     "start_time": "2024-03-13T13:43:26.162312",
     "status": "completed"
    },
    "tags": []
   },
   "outputs": [
    {
     "data": {
      "image/png": "[encoded data removed]",
      "text/plain": [
       "<Figure size 1000x600 with 1 Axes>"
      ]
     },
     "metadata": {},
     "output_type": "display_data"
    }
   ],
   "source": [
    "import numpy as np\n",
    "import matplotlib.pyplot as plt\n",
    "\n",
    "# Define the accuracy scores or Mean Squared Errors of the three models\n",
    "accuracies = [score, accuracy, 1 - mse]  # Using the scores and MSE calculated from your original code\n",
    "\n",
    "# Model names\n",
    "models = ['Random Forest', 'SVC (Linear Kernel)', 'Linear Regression']\n",
    "\n",
    "# Create a gradient of blues for the color palette\n",
    "num_models = len(models)\n",
    "colors = plt.cm.Blues(np.linspace(0.2, 0.8, num_models))  # Adjust the range as needed\n",
    "\n",
    "# Plotting the bar plot\n",
    "plt.figure(figsize=(10, 6))\n",
    "plt.bar(models, accuracies, color=colors)\n",
    "plt.title('Performance Comparison of Models')\n",
    "plt.xlabel('Models')\n",
    "plt.ylabel('Accuracy' if accuracies[0] <= 1 else 'Mean Squared Error')  # Label depends on the metric\n",
    "plt.ylim(min(accuracies) - 0.1, max(accuracies) + 0.1)  # Dynamically set y-axis limits\n",
    "plt.xticks(rotation=45)\n",
    "plt.grid(axis='y')\n",
    "\n",
    "# Show the plot\n",
    "plt.show()\n"
   ]
  },
  {
   "cell_type": "markdown",
   "id": "caec74e2",
   "metadata": {
    "papermill": {
     "duration": 0.02034,
     "end_time": "2024-03-13T13:43:26.488525",
     "exception": false,
     "start_time": "2024-03-13T13:43:26.468185",
     "status": "completed"
    },
    "tags": []
   },
   "source": [
    "# Project Summary"
   ]
  },
  {
   "cell_type": "markdown",
   "id": "6f200239",
   "metadata": {
    "papermill": {
     "duration": 0.022909,
     "end_time": "2024-03-13T13:43:26.533382",
     "exception": false,
     "start_time": "2024-03-13T13:43:26.510473",
     "status": "completed"
    },
    "tags": []
   },
   "source": [
    "**This project compared three machine learning models (Random Forest Classifier, SVC with Linear Kernel, and Linear Regression) for predicting stress levels. The models were trained, evaluated using accuracy (for classification models) or mean squared error (for regression), and their performance was visualized using a bar plot. The Random Forest Classifier achieved the highest accuracy, followed closely by SVC with Linear Kernel, while Linear Regression had comparatively lower performance. The choice of model may depend on factors like interpretability and computational resources.**"
   ]
  }
 ],
 "metadata": {
  "kaggle": {
   "accelerator": "none",
   "dataSources": [
    {
     "datasetId": 2789271,
     "sourceId": 4816636,
     "sourceType": "datasetVersion"
    }
   ],
   "dockerImageVersionId": 30664,
   "isGpuEnabled": false,
   "isInternetEnabled": true,
   "language": "python",
   "sourceType": "notebook"
  },
  "kernelspec": {
   "display_name": "Python 3",
   "language": "python",
   "name": "python3"
  },
  "language_info": {
   "codemirror_mode": {
    "name": "ipython",
    "version": 3
   },
   "file_extension": ".py",
   "mimetype": "text/x-python",
   "name": "python",
   "nbconvert_exporter": "python",
   "pygments_lexer": "ipython3",
   "version": "3.10.13"
  },
  "papermill": {
   "default_parameters": {},
   "duration": 29.712585,
   "end_time": "2024-03-13T13:43:27.282760",
   "environment_variables": {},
   "exception": null,
   "input_path": "__notebook__.ipynb",
   "output_path": "__notebook__.ipynb",
   "parameters": {},
   "start_time": "2024-03-13T13:42:57.570175",
   "version": "2.5.0"
  }
 },
 "nbformat": 4,
 "nbformat_minor": 5
}
